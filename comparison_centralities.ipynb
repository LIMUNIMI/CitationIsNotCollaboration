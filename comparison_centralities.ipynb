{
 "cells": [
  {
   "cell_type": "markdown",
   "metadata": {},
   "source": [
    "# Centralities (PageRank, Harmonic, Closeness) behaviour on Spotify Graph and SGC model"
   ]
  },
  {
   "cell_type": "markdown",
   "metadata": {},
   "source": [
    "### Configuration steps"
   ]
  },
  {
   "cell_type": "code",
   "execution_count": null,
   "metadata": {},
   "outputs": [],
   "source": [
    "import logging\n",
    "import sys\n",
    "import os\n",
    "from featgraph.jwebgraph import start_jvm\n",
    "\n",
    "jvm_path = None\n",
    "\n",
    "logging.basicConfig(\n",
    "  level=logging.INFO,\n",
    "  format='%(asctime)s %(name)-12s %(levelname)-8s: %(message)s',\n",
    "  datefmt='%Y-%m-%d %H:%M:%S',\n",
    ")\n",
    "\n",
    "\n",
    "do_install = True\n",
    "package_root = \"..\"\n",
    "\n",
    "if do_install:\n",
    "  cmd = \"{} -m pip install -U {} --use-feature=in-tree-build\".format(\n",
    "    sys.executable,\n",
    "    package_root,\n",
    "  )\n",
    "  logging.info(cmd)\n",
    "  os.system(cmd)\n",
    "  cmd = \"{} -m pip install -Ur {}\".format(\n",
    "    sys.executable,\n",
    "    os.path.join(package_root, \"notebooks-requirements.txt\"),\n",
    "  )\n",
    "  logging.info(cmd)\n",
    "  os.system(cmd)\n",
    "\n",
    "\n",
    "start_jvm(jvm_path=jvm_path)"
   ]
  },
  {
   "cell_type": "markdown",
   "metadata": {},
   "source": [
    "### Loading the Spotify graph"
   ]
  },
  {
   "cell_type": "code",
   "execution_count": null,
   "metadata": {},
   "outputs": [],
   "source": [
    "# import Spotify graph\n",
    "import featgraph.jwebgraph.utils\n",
    "from featgraph import jwebgraph\n",
    "\n",
    "spotify_basename = \"graphs/spotify-2018\"\n",
    "graph = jwebgraph.utils.BVGraph(spotify_basename)\n",
    "print(graph)\n",
    "\n",
    "for r in (\n",
    "  \"graph\", \"properties\", \"ids.txt\"\n",
    "):\n",
    "  if not os.path.isfile(graph.path(r)):\n",
    "    raise FileNotFoundError(graph.path(r))\n",
    "\n",
    "graph.reconstruct_offsets()\n",
    "from featgraph.misc import pretty_print_int\n",
    "\n",
    "print(\"Graph '{}' has\\n{:>11} nodes\\n{:>11} arcs\".format(\n",
    "  graph.basename,\n",
    "  pretty_print_int(graph.numNodes()),\n",
    "  pretty_print_int(graph.numArcs()),\n",
    "))"
   ]
  },
  {
   "cell_type": "markdown",
   "metadata": {},
   "source": [
    "### Creating an instance of the SGC model"
   ]
  },
  {
   "cell_type": "code",
   "execution_count": null,
   "metadata": {},
   "outputs": [],
   "source": [
    "## create sgc graph in BVgraph format and store it\n",
    "# from featgraph import sgc\n",
    "# nx_basepath = \"graph_SGC/SGCexampleNX\"\n",
    "# bv_basepath = \"graph_SGC/SGCexampleBV\"\n",
    "# seed = 42\n",
    "# model = sgc.SGCModel(\n",
    "#     n_celeb=160,\n",
    "#     n_leader=160,\n",
    "#     n_masses=100000,\n",
    "# )\n",
    "# nxgraph = model(seed=seed)\n",
    "# sgc.to_bv(nxgraph, bv_basepath)\n",
    "# sgc_graph = jwebgraph.utils.BVGraph(bv_basepath)"
   ]
  },
  {
   "cell_type": "markdown",
   "metadata": {},
   "source": [
    "### Loading the SGC graph"
   ]
  },
  {
   "cell_type": "code",
   "execution_count": null,
   "metadata": {},
   "outputs": [],
   "source": [
    "# loading the SGC graph\n",
    "import featgraph.jwebgraph.utils\n",
    "from featgraph import jwebgraph\n",
    "\n",
    "sgc_basename = \"graph_SGC/SGCexampleBV\"\n",
    "sgc_graph = jwebgraph.utils.BVGraph(sgc_basename)\n",
    "print(sgc_graph)\n",
    "\n",
    "for r in (\n",
    "  \"graph\", \"properties\"#, \"ids.txt\"\n",
    "):\n",
    "  if not os.path.isfile(sgc_graph.path(r)):\n",
    "    raise FileNotFoundError(sgc_graph.path(r))\n",
    "\n",
    "sgc_graph.reconstruct_offsets()\n",
    "from featgraph.misc import pretty_print_int\n",
    "\n",
    "print(\"Graph '{}' has\\n{:>11} nodes\\n{:>11} arcs\".format(\n",
    "  sgc_graph.basename,\n",
    "  pretty_print_int(sgc_graph.numNodes()),\n",
    "  pretty_print_int(sgc_graph.numArcs()),\n",
    "))"
   ]
  },
  {
   "cell_type": "markdown",
   "metadata": {},
   "source": [
    "# Test on Spotify graph"
   ]
  },
  {
   "cell_type": "markdown",
   "metadata": {},
   "source": [
    "### Generating subgraphs for different popularity thresholds"
   ]
  },
  {
   "cell_type": "code",
   "execution_count": null,
   "metadata": {
    "scrolled": true
   },
   "outputs": [],
   "source": [
    "# Generating the subgraphs for different popularity thresholds\n",
    "import numpy as np\n",
    "\n",
    "thresh = np.arange(0, 81, 5)  # [0, 20, 30, 34, 35, 60]\n",
    "type_filt = 'popularity'\n",
    "dest_path = 'graphs/spotify-2018'\n",
    "missing_value = -20\n",
    "for t in thresh:  # per ogni soglia \n",
    "    print(t)\n",
    "    # genero sottografo per soglia \n",
    "    subgraph_path = dest_path + '.mapped-' + type_filt + '-' + str(t)\n",
    "    map_pop = list(map(lambda p: p > t, graph.popularity(missing_value)))\n",
    "    subgraph = graph.transform_map(subgraph_path, map_pop, \"spotify\")\n",
    "    # print(\"Subgraph generated\")\n",
    "    # print(subgraph.numNodes())"
   ]
  },
  {
   "cell_type": "markdown",
   "metadata": {},
   "source": [
    "### Loading subgraphs for different popularity thresholds and computing mean centralities for supergenres"
   ]
  },
  {
   "cell_type": "code",
   "execution_count": null,
   "metadata": {},
   "outputs": [],
   "source": [
    "import itertools\n",
    "import numpy as np\n",
    "from tqdm import tqdm\n",
    "\n",
    "thresh = np.arange(0, 81, 5)  # [0, 20, 30, 34, 35, 60]\n",
    "dest_path = 'graphs/spotify-2018'\n",
    "\n",
    "hip_hop_cent = {'hc': [],\n",
    "                'cc': [],\n",
    "                'pr': []}\n",
    "classical_cent = {'hc': [],\n",
    "                  'cc': [],\n",
    "                  'pr': []}\n",
    "rock_cent = {'hc': [],\n",
    "                'cc': [],\n",
    "                'pr': []}\n",
    "\n",
    "hip_hop_cent_n = {'hc': [],\n",
    "                'cc': [],\n",
    "                'pr': [],\n",
    "                'pra': []}\n",
    "classical_cent_n = {'hc': [],\n",
    "                  'cc': [],\n",
    "                  'pr': []}\n",
    "rock_cent_n = {'hc': [],\n",
    "                'cc': [],\n",
    "                'pr': []}\n",
    "hiphop_hc = []\n",
    "classical_hc = []\n",
    "rock_hc = []\n",
    "\n",
    "for t in thresh:  # per ogni soglia\n",
    "    # carico grafo\n",
    "    basename = dest_path + '.mapped-' + 'popularity' + '-' + str(t)\n",
    "    subgraph = jwebgraph.utils.BVGraph(basename)\n",
    "    subgraph.reconstruct_offsets()\n",
    "    \n",
    "    # compute harmonic\n",
    "    subgraph.compute_transpose()\n",
    "    subgraph.compute_harmonicc()\n",
    "    subgraph.compute_pagerank()\n",
    "    subgraph.compute_closenessc()\n",
    "    \n",
    "    # select harmonic centralities for a specific genre: hip-hop\n",
    "    map_gen = map(lambda p: 'hip-hop' in p, subgraph.supergenre())\n",
    "    hc_gen = list(itertools.compress(subgraph.harmonicc(), map_gen))\n",
    "    hc_gen_list = list(hc_gen)\n",
    "    hip_hop_cent[\"hc\"].append(sum(hc_gen_list)/len(hc_gen_list))\n",
    "    hip_hop_cent_n[\"hc\"].append((sum(hc_gen_list)/len(hc_gen_list))/subgraph.numNodes())\n",
    "    # hiphop_hc.append(hc_gen_list)\n",
    "\n",
    "    # select harmonic centralities for a specific genre: classical\n",
    "    map_gen = map(lambda p: 'classical' in p, subgraph.supergenre())\n",
    "    hc_gen = list(itertools.compress(subgraph.harmonicc(), map_gen))\n",
    "    hc_gen_list = list(hc_gen)\n",
    "    classical_cent[\"hc\"].append(sum(hc_gen_list)/len(hc_gen_list))\n",
    "    classical_cent_n[\"hc\"].append((sum(hc_gen_list)/len(hc_gen_list))/subgraph.numNodes())\n",
    "    # classical_hc.append(hc_gen_list)\n",
    "    \n",
    "    # select harmonic centralities for a specific genre: rock\n",
    "    map_gen = map(lambda p: 'rock' in p, subgraph.supergenre())\n",
    "    hc_gen = list(itertools.compress(subgraph.harmonicc(), map_gen))\n",
    "    hc_gen_list = list(hc_gen)\n",
    "    rock_cent[\"hc\"].append(sum(hc_gen_list)/len(hc_gen_list))\n",
    "    rock_cent_n[\"hc\"].append((sum(hc_gen_list)/len(hc_gen_list))/subgraph.numNodes())\n",
    "    # rock_hc.append(hc_gen_list)\n",
    "    \n",
    "    # select closeness centralities for a specific genre: hip-hop\n",
    "    map_gen = map(lambda p: 'hip-hop' in p, subgraph.supergenre())\n",
    "    cc_gen = list(itertools.compress(subgraph.closenessc(), map_gen))\n",
    "    cc_gen_list = list(cc_gen)\n",
    "    hip_hop_cent[\"cc\"].append(sum(cc_gen_list)/len(cc_gen_list))\n",
    "    hip_hop_cent_n[\"cc\"].append((sum(cc_gen_list)/len(cc_gen_list))/subgraph.numNodes())\n",
    "\n",
    "    # select closeness centralities for a specific genre: classical\n",
    "    map_gen = map(lambda p: 'classical' in p, subgraph.supergenre())\n",
    "    cc_gen = list(itertools.compress(subgraph.closenessc(), map_gen))\n",
    "    cc_gen_list = list(cc_gen)\n",
    "    classical_cent[\"cc\"].append(sum(cc_gen_list)/len(cc_gen_list))\n",
    "    classical_cent_n[\"cc\"].append((sum(cc_gen_list)/len(cc_gen_list))/subgraph.numNodes())\n",
    "    \n",
    "    # select closeness centralities for a specific genre: rock\n",
    "    map_gen = map(lambda p: 'rock' in p, subgraph.supergenre())\n",
    "    cc_gen = list(itertools.compress(subgraph.closenessc(), map_gen))\n",
    "    cc_gen_list = list(cc_gen)\n",
    "    rock_cent[\"cc\"].append(sum(cc_gen_list)/len(cc_gen_list))\n",
    "    rock_cent_n[\"cc\"].append((sum(cc_gen_list)/len(cc_gen_list))/subgraph.numNodes())\n",
    "\n",
    "    # select pagerank centralities for a specific genre: hip-hop\n",
    "    map_gen = map(lambda p: 'hip-hop' in p, subgraph.supergenre())\n",
    "    pr_gen = list(itertools.compress(subgraph.pagerank(), map_gen))\n",
    "    pr_gen_list = list(pr_gen)\n",
    "    hip_hop_cent[\"pr\"].append(sum(pr_gen_list)/len(pr_gen_list))\n",
    "    hip_hop_cent_n[\"pr\"].append((sum(pr_gen_list)/len(pr_gen_list))/subgraph.numNodes())\n",
    "\n",
    "    # select pagerank centralities for a specific genre: classical\n",
    "    map_gen = map(lambda p: 'classical' in p, subgraph.supergenre())\n",
    "    pr_gen = list(itertools.compress(subgraph.pagerank(), map_gen))\n",
    "    pr_gen_list = list(pr_gen)\n",
    "    classical_cent[\"pr\"].append(sum(pr_gen_list)/len(pr_gen_list))\n",
    "    classical_cent_n[\"pr\"].append((sum(pr_gen_list)/len(pr_gen_list))/subgraph.numNodes())\n",
    "\n",
    "    # select pagerank centralities for a specific genre: rock\n",
    "    map_gen = map(lambda p: 'rock' in p, subgraph.supergenre())\n",
    "    pr_gen = list(itertools.compress(subgraph.pagerank(), map_gen))\n",
    "    pr_gen_list = list(pr_gen)\n",
    "    rock_cent[\"pr\"].append(sum(pr_gen_list)/len(pr_gen_list))\n",
    "    rock_cent_n[\"pr\"].append((sum(pr_gen_list)/len(pr_gen_list))/subgraph.numNodes())\n",
    "    \n",
    "    # select pagerank alpha\n",
    "    #map_gen = map(lambda p: 'hip-hop' in p, subgraph.supergenre())\n",
    "    #da = 0.1\n",
    "    #alphas = np.linspace(da, 1, int(1/da - 1), endpoint=False)\n",
    "    #for i, a in enumerate(tqdm(alphas)):\n",
    "    #    subgraph.compute_pagerank(a)\n",
    "    #    pra_gen = list(itertools.compress(subgraph.pagerank(a), map_gen))\n",
    "    #    pra_gen_list = list(pr_gen)\n",
    "    #    hip_hop_cent[\"pra\"].append(sum(pra_gen_list)/len(pra_gen_list))\n",
    "    #    hip_hop_cent_n[\"pra\"].append((sum(pra_gen_list)/len(pra_gen_list))/subgraph.numNodes())"
   ]
  },
  {
   "cell_type": "code",
   "execution_count": null,
   "metadata": {},
   "outputs": [],
   "source": [
    "import matplotlib.pyplot as plt\n",
    "\n",
    "plt.plot(thresh, hip_hop_cent['hc'], label='hip_hop')\n",
    "plt.plot(thresh, classical_cent['hc'], label='classical')\n",
    "plt.plot(thresh, rock_cent['hc'], label='rock')\n",
    "plt.legend()\n",
    "plt.show()"
   ]
  },
  {
   "cell_type": "code",
   "execution_count": null,
   "metadata": {},
   "outputs": [],
   "source": [
    "plt.plot(thresh, hip_hop_cent_n['hc'], label='hip_hop')\n",
    "plt.plot(thresh, classical_cent_n['hc'], label='classical')\n",
    "plt.plot(thresh, rock_cent_n['hc'], label='rock')\n",
    "plt.legend()\n",
    "plt.show()"
   ]
  },
  {
   "cell_type": "code",
   "execution_count": null,
   "metadata": {},
   "outputs": [],
   "source": [
    "plt.plot(np.arange(0, 81, 5), hip_hop_cent['cc'],label='hip_hop')\n",
    "plt.plot(np.arange(0, 81, 5), classical_cent['cc'], label='classical')\n",
    "plt.plot(np.arange(0, 81, 5), rock_cent['cc'], label='rock')\n",
    "plt.legend()\n",
    "plt.show()"
   ]
  },
  {
   "cell_type": "code",
   "execution_count": null,
   "metadata": {},
   "outputs": [],
   "source": [
    "plt.plot(np.arange(0, 81, 5), hip_hop_cent_n['cc'], label='hip_hop')\n",
    "plt.plot(np.arange(0, 81, 5), classical_cent_n['cc'], label='classical')\n",
    "plt.plot(np.arange(0, 81, 5), rock_cent_n['cc'], label='rock')\n",
    "plt.legend()\n",
    "plt.show()"
   ]
  },
  {
   "cell_type": "code",
   "execution_count": null,
   "metadata": {},
   "outputs": [],
   "source": [
    "plt.plot(np.arange(0, 81, 5), hip_hop_cent['pr'], label='hip_hop')\n",
    "plt.plot(np.arange(0, 81, 5), classical_cent['pr'], label='classical')\n",
    "plt.plot(np.arange(0, 81, 5), rock_cent['pr'], label='rock')\n",
    "plt.legend()\n",
    "plt.show()"
   ]
  },
  {
   "cell_type": "code",
   "execution_count": null,
   "metadata": {},
   "outputs": [],
   "source": [
    "plt.plot(np.arange(0, 81, 5), hip_hop_cent_n['pr'], label='hip_hop')\n",
    "plt.plot(np.arange(0, 81, 5), classical_cent_n['pr'], label='classical')\n",
    "plt.plot(np.arange(0, 81, 5), rock_cent_n['pr'], label='rock')\n",
    "plt.legend()\n",
    "plt.show()"
   ]
  },
  {
   "cell_type": "markdown",
   "metadata": {},
   "source": [
    "# Generate subgraph from filtering by popularity "
   ]
  },
  {
   "cell_type": "markdown",
   "metadata": {},
   "source": [
    "### Filtering on SGC model"
   ]
  },
  {
   "cell_type": "code",
   "execution_count": null,
   "metadata": {},
   "outputs": [],
   "source": [
    "# Generating the subgraphs for different popularity thresholds\n",
    "import numpy as np\n",
    "\n",
    "thresh = np.arange(0, 81, 5)  # [0, 20, 30, 34, 35, 60]\n",
    "type_filt = 'popularity'\n",
    "dest_path = 'graph_SGC/SGCexampleBV'\n",
    "missing_value = -20\n",
    "\n",
    "for t in thresh:  # per ogni soglia \n",
    "    # genero sottografo per soglia \n",
    "    sgc_subgraph_path = dest_path + '.mapped-' + type_filt + '-' + str(t)\n",
    "    map_pop = list(map(lambda p: p > t, graph.popularity(missing_value)))\n",
    "    sgc_subgraph = sgc_graph.transform_map(sgc_subgraph_path, map_pop, \"sgc\")\n",
    "    print(\"Subgraph generated\")\n",
    "    # print(subgraph.numNodes())"
   ]
  },
  {
   "cell_type": "code",
   "execution_count": null,
   "metadata": {
    "scrolled": false
   },
   "outputs": [],
   "source": [
    "import itertools\n",
    "import numpy as np\n",
    "from tqdm import tqdm\n",
    "\n",
    "thresh = np.arange(0, 81, 5)  # [0, 20, 30, 34, 35, 60]\n",
    "dest_path = 'graph_SGC/SGCexampleBV'\n",
    "\n",
    "masses_cent = {'hc': [],\n",
    "                'cc': [],\n",
    "                'pr': []}\n",
    "celeb_cent = {'hc': [],\n",
    "                  'cc': [],\n",
    "                  'pr': []}\n",
    "commlead_cent = {'hc': [],\n",
    "                'cc': [],\n",
    "                'pr': []}\n",
    "\n",
    "masses_cent_n = {'hc': [],\n",
    "                'cc': [],\n",
    "                'pr': [],\n",
    "                'pra': []}\n",
    "celeb_cent_n = {'hc': [],\n",
    "                  'cc': [],\n",
    "                  'pr': []}\n",
    "commlead_cent_n = {'hc': [],\n",
    "                'cc': [],\n",
    "                'pr': []}\n",
    "\n",
    "\n",
    "for t in thresh:  # per ogni soglia\n",
    "    print(t)\n",
    "    # carico grafo\n",
    "    basename = dest_path + '.mapped-' + 'popularity' + '-' + str(t)\n",
    "    sgc_subgraph = jwebgraph.utils.BVGraph(basename)\n",
    "    sgc_subgraph.reconstruct_offsets()\n",
    "    \n",
    "    # compute harmonic\n",
    "    sgc_subgraph.compute_transpose()\n",
    "    sgc_subgraph.compute_harmonicc()\n",
    "    sgc_subgraph.compute_pagerank()\n",
    "    sgc_subgraph.compute_closenessc()\n",
    "    \n",
    "    # select harmonic centralities for a specific type: masses\n",
    "    map_type = map(lambda p: 'masses' in p, sgc_subgraph.type_sgc())\n",
    "    hc_type = list(itertools.compress(sgc_subgraph.harmonicc(), map_type))\n",
    "    hc_type_list = list(hc_type)\n",
    "    if len(hc_type_list) > 0:\n",
    "        masses_cent[\"hc\"].append(sum(hc_type_list)/len(hc_type_list))\n",
    "        masses_cent_n[\"hc\"].append((sum(hc_type_list)/len(hc_type_list))/sgc_subgraph.numNodes())\n",
    "    \n",
    "    # select harmonic centralities for a specific type: celeb\n",
    "    map_type = map(lambda p: 'celeb' in p, sgc_subgraph.type_sgc())\n",
    "    hc_type = list(itertools.compress(sgc_subgraph.harmonicc(), map_type))\n",
    "    hc_type_list = list(hc_type)\n",
    "    if len(hc_type_list) > 0:\n",
    "        celeb_cent[\"hc\"].append(sum(hc_type_list)/len(hc_type_list))\n",
    "        celeb_cent_n[\"hc\"].append((sum(hc_type_list)/len(hc_type_list))/sgc_subgraph.numNodes())\n",
    "    \n",
    "    # select harmonic centralities for a specific type: celeb\n",
    "    map_type = map(lambda p: 'community leaders' in p, sgc_subgraph.type_sgc())\n",
    "    hc_type = list(itertools.compress(sgc_subgraph.harmonicc(), map_type))\n",
    "    hc_type_list = list(hc_type)\n",
    "    if len(hc_type_list) > 0:\n",
    "        commlead_cent[\"hc\"].append(sum(hc_type_list)/len(hc_type_list))\n",
    "        commlead_cent_n[\"hc\"].append((sum(hc_type_list)/len(hc_type_list))/sgc_subgraph.numNodes())\n",
    "\n",
    "    # select harmonic centralities for a specific type: masses\n",
    "    map_type = map(lambda p: 'masses' in p, sgc_subgraph.type_sgc())\n",
    "    cc_type = list(itertools.compress(sgc_subgraph.closenessc(), map_type))\n",
    "    cc_type_list = list(cc_type)\n",
    "    if len(cc_type_list) > 0:\n",
    "        masses_cent[\"cc\"].append(sum(cc_type_list)/len(cc_type_list))\n",
    "        masses_cent_n[\"cc\"].append((sum(cc_type_list)/len(cc_type_list))/sgc_subgraph.numNodes())\n",
    "    \n",
    "    # select harmonic centralities for a specific type: celeb\n",
    "    map_type = map(lambda p: 'celeb' in p, sgc_subgraph.type_sgc())\n",
    "    cc_type = list(itertools.compress(sgc_subgraph.closenessc(), map_type))\n",
    "    cc_type_list = list(cc_type)\n",
    "    if len(cc_type_list) > 0:\n",
    "        celeb_cent[\"cc\"].append(sum(cc_type_list)/len(cc_type_list))\n",
    "        celeb_cent_n[\"cc\"].append((sum(cc_type_list)/len(cc_type_list))/sgc_subgraph.numNodes())\n",
    "    \n",
    "    # select harmonic centralities for a specific type: celeb\n",
    "    map_type = map(lambda p: 'community leaders' in p, sgc_subgraph.type_sgc())\n",
    "    cc_type = list(itertools.compress(sgc_subgraph.closenessc(), map_type))\n",
    "    cc_type_list = list(cc_type)\n",
    "    if len(cc_type_list) > 0:\n",
    "        commlead_cent[\"cc\"].append(sum(cc_type_list)/len(cc_type_list))\n",
    "        commlead_cent_n[\"cc\"].append((sum(cc_type_list)/len(cc_type_list))/sgc_subgraph.numNodes())\n",
    "    \n",
    "    # select harmonic centralities for a specific type: masses\n",
    "    map_type = map(lambda p: 'masses' in p, sgc_subgraph.type_sgc())\n",
    "    pr_type = list(itertools.compress(sgc_subgraph.pagerank(), map_type))\n",
    "    pr_type_list = list(pr_type)\n",
    "    if len(pr_type_list) > 0:\n",
    "        masses_cent[\"pr\"].append(sum(pr_type_list)/len(pr_type_list))\n",
    "        masses_cent_n[\"pr\"].append((sum(pr_type_list)/len(pr_type_list))/sgc_subgraph.numNodes())\n",
    "    \n",
    "    # select harmonic centralities for a specific type: celeb\n",
    "    map_type = map(lambda p: 'celeb' in p, sgc_subgraph.type_sgc())\n",
    "    pr_type = list(itertools.compress(sgc_subgraph.pagerank(), map_type))\n",
    "    pr_type_list = list(hc_type)\n",
    "    if len(pr_type_list) > 0:\n",
    "        celeb_cent[\"pr\"].append(sum(pr_type_list)/len(pr_type_list))\n",
    "        celeb_cent_n[\"pr\"].append((sum(pr_type_list)/len(pr_type_list))/sgc_subgraph.numNodes())\n",
    "    \n",
    "    # select harmonic centralities for a specific type: celeb\n",
    "    map_type = map(lambda p: 'community leaders' in p, sgc_subgraph.type_sgc())\n",
    "    pr_type = list(itertools.compress(sgc_subgraph.pagerank(), map_type))\n",
    "    pr_type_list = list(pr_type)\n",
    "    if len(pr_type_list) > 0:\n",
    "        commlead_cent[\"pr\"].append(sum(pr_type_list)/len(pr_type_list))\n",
    "        commlead_cent_n[\"pr\"].append((sum(pr_type_list)/len(pr_type_list))/sgc_subgraph.numNodes())"
   ]
  },
  {
   "cell_type": "code",
   "execution_count": null,
   "metadata": {},
   "outputs": [],
   "source": [
    "import matplotlib.pyplot as plt\n",
    "\n",
    "min_t = min(len(masses_cent['hc']), len(celeb_cent['hc']), len(commlead_cent['hc']))\n",
    "new_thresh = np.arange(0, ((min_t - 1)*5) + 1, 5)\n",
    "plt.plot(new_thresh, masses_cent['hc'][0:min_t], label='masses')\n",
    "plt.plot(new_thresh, celeb_cent['hc'][0:min_t], label='celeb')\n",
    "plt.plot(new_thresh, commlead_cent['hc'][0:min_t], label='commlead')\n",
    "plt.legend()\n",
    "plt.show()"
   ]
  },
  {
   "cell_type": "code",
   "execution_count": null,
   "metadata": {},
   "outputs": [],
   "source": [
    "min_t = min(len(masses_cent['hc']), len(celeb_cent['hc']), len(commlead_cent['hc']))\n",
    "new_thresh = np.arange(0, ((min_t - 1)*5) + 1, 5)\n",
    "plt.plot(new_thresh, masses_cent_n['hc'][0:min_t], label='masses')\n",
    "plt.plot(new_thresh, celeb_cent_n['hc'][0:min_t], label='celeb')\n",
    "plt.plot(new_thresh, commlead_cent_n['hc'][0:min_t], label='commlead')\n",
    "plt.legend()\n",
    "plt.show()"
   ]
  },
  {
   "cell_type": "code",
   "execution_count": null,
   "metadata": {},
   "outputs": [],
   "source": [
    "min_t = min(len(masses_cent['cc']), len(celeb_cent['cc']), len(commlead_cent['cc']))\n",
    "new_thresh = np.arange(0, ((min_t - 1)*5) + 1, 5)\n",
    "plt.plot(new_thresh, masses_cent['cc'][0:min_t], label='masses')\n",
    "plt.plot(new_thresh, celeb_cent['cc'][0:min_t], label='celeb')\n",
    "plt.plot(new_thresh, commlead_cent['cc'][0:min_t], label='commlead')\n",
    "plt.legend()\n",
    "plt.show()"
   ]
  },
  {
   "cell_type": "code",
   "execution_count": null,
   "metadata": {},
   "outputs": [],
   "source": [
    "min_t = min(len(masses_cent['cc']), len(celeb_cent['cc']), len(commlead_cent['cc']))\n",
    "new_thresh = np.arange(0, ((min_t - 1)*5) + 1, 5)\n",
    "plt.plot(new_thresh, masses_cent_n['cc'][0:min_t], label='masses')\n",
    "plt.plot(new_thresh, celeb_cent_n['cc'][0:min_t], label='celeb')\n",
    "plt.plot(new_thresh, commlead_cent_n['cc'][0:min_t], label='commlead')\n",
    "plt.legend()\n",
    "plt.show()"
   ]
  },
  {
   "cell_type": "code",
   "execution_count": null,
   "metadata": {},
   "outputs": [],
   "source": [
    "min_t = min(len(masses_cent['pr']), len(celeb_cent['pr']), len(commlead_cent['pr']))\n",
    "new_thresh = np.arange(0, ((min_t - 1)*5) + 1, 5)\n",
    "plt.plot(new_thresh, masses_cent['pr'][0:min_t], label='masses')\n",
    "plt.plot(new_thresh, celeb_cent['pr'][0:min_t], label='celeb')\n",
    "plt.plot(new_thresh, commlead_cent['pr'][0:min_t], label='commlead')\n",
    "plt.legend()\n",
    "plt.show()"
   ]
  },
  {
   "cell_type": "code",
   "execution_count": null,
   "metadata": {},
   "outputs": [],
   "source": [
    "min_t = min(len(masses_cent['pr']), len(celeb_cent['pr']), len(commlead_cent['pr']))\n",
    "new_thresh = np.arange(0, ((min_t - 1)*5) + 1, 5)\n",
    "plt.plot(new_thresh, masses_cent_n['pr'][0:min_t], label='masses')\n",
    "plt.plot(new_thresh, celeb_cent_n['pr'][0:min_t], label='celeb')\n",
    "plt.plot(new_thresh, commlead_cent_n['pr'][0:min_t], label='commlead')\n",
    "plt.legend()\n",
    "plt.show()"
   ]
  },
  {
   "cell_type": "markdown",
   "metadata": {},
   "source": [
    "# below: OLD --------------------------------------------------------------------------"
   ]
  },
  {
   "cell_type": "markdown",
   "metadata": {},
   "source": [
    "## Computing Centralities for threshold = 0"
   ]
  },
  {
   "cell_type": "markdown",
   "metadata": {},
   "source": [
    "### PageRank"
   ]
  },
  {
   "cell_type": "code",
   "execution_count": null,
   "metadata": {},
   "outputs": [],
   "source": [
    "graph.compute_transpose()\n",
    "bv_sgc.compute_transpose()"
   ]
  },
  {
   "cell_type": "code",
   "execution_count": null,
   "metadata": {},
   "outputs": [],
   "source": [
    "graph.compute_pagerank()\n",
    "bv_sgc.compute_pagerank()"
   ]
  },
  {
   "cell_type": "code",
   "execution_count": null,
   "metadata": {},
   "outputs": [],
   "source": [
    "import featgraph\n",
    "\n",
    "from matplotlib import pyplot as plt\n",
    "import featgraph.plots\n",
    "\n",
    "refnames = (\n",
    "  \"Ludwig van Beethoven\",\n",
    "  \"Robert Farnon Orchestra\",\n",
    "  \"Ed Sheeran\",\n",
    "  \"Rick Ross\",\n",
    "  \"Vulfpeck\",\n",
    ")\n",
    "refidx = tuple(\n",
    "  graph.artist(name=n).index\n",
    "  for n in refnames\n",
    ")\n",
    "\n",
    "def scatter_refs(x, y, **kwargs):\n",
    "  xs = x() if callable(x) else x\n",
    "  xs = [xs[i] for i in refidx]\n",
    "  ys = y() if callable(y) else y\n",
    "  ys = [ys[i] for i in refidx]\n",
    "  for xi, yi, ni in zip(xs, ys, refnames):\n",
    "    plt.scatter(xi, yi, label=ni, **kwargs)\n",
    "  plt.legend()\n",
    "\n",
    "featgraph.plots.scatter(\n",
    "  graph.indegrees, graph.pagerank,\n",
    "  marker=\".\", c=\"k\", alpha=2**(-5),\n",
    "  label=graph.basename, xlabel=\"in-degree\", ylabel=\"pagerank\",\n",
    ")\n",
    "scatter_refs(graph.indegrees, graph.pagerank)\n",
    "plt.show()"
   ]
  },
  {
   "cell_type": "code",
   "execution_count": null,
   "metadata": {},
   "outputs": [],
   "source": [
    "from matplotlib import pyplot as plt\n",
    "import featgraph.plots\n",
    "\n",
    "bv_sgc.compute_degrees()\n",
    "\n",
    "featgraph.plots.scatter(\n",
    "  bv_sgc.indegrees, bv_sgc.pagerank,\n",
    "  marker=\".\", c=\"k\", alpha=2**(-5),\n",
    "  label=bv_sgc.basename, xlabel=\"in-degree\", ylabel=\"pagerank\",\n",
    ")\n",
    "\n",
    "plt.show()"
   ]
  },
  {
   "cell_type": "markdown",
   "metadata": {},
   "source": [
    "### Harmonic centrality"
   ]
  },
  {
   "cell_type": "code",
   "execution_count": null,
   "metadata": {},
   "outputs": [],
   "source": [
    "graph.compute_harmonicc()\n",
    "featgraph.plots.scatter(\n",
    "  graph.pagerank, graph.harmonicc,\n",
    "  xscale=\"log\",\n",
    "  marker=\".\", c=\"k\", alpha=2**(-5),\n",
    "  label=graph.basename, xlabel=\"pagerank\", ylabel=\"harmonic centrality\",\n",
    ")\n",
    "scatter_refs(graph.pagerank, graph.harmonicc)\n",
    "plt.show()"
   ]
  },
  {
   "cell_type": "code",
   "execution_count": null,
   "metadata": {},
   "outputs": [],
   "source": [
    "bv_sgc.compute_harmonicc()\n",
    "featgraph.plots.scatter(\n",
    "  bv_sgc.pagerank, bv_sgc.harmonicc,\n",
    "  xscale=\"log\",\n",
    "  marker=\".\", c=\"k\", alpha=2**(-5),\n",
    "  label=graph.basename, xlabel=\"pagerank\", ylabel=\"harmonic centrality\",\n",
    ")\n",
    "plt.show()"
   ]
  },
  {
   "cell_type": "markdown",
   "metadata": {},
   "source": [
    "### PageRank for different alphas"
   ]
  },
  {
   "cell_type": "code",
   "execution_count": null,
   "metadata": {},
   "outputs": [],
   "source": [
    "from tqdm.notebook import tqdm\n",
    "import numpy as np\n",
    "\n",
    "da = 0.1\n",
    "alphas = np.linspace(da, 1, int(1/da - 1), endpoint=False)\n",
    "kt_hc_ranks_a = np.zeros(len(alphas))\n",
    "for i, a in enumerate(tqdm(alphas)):\n",
    "  graph.compute_pagerank(a)\n",
    "  kt_hc_ranks_a[i] = jwebgraph.utils.kendall_tau(\n",
    "    graph.pagerank(a), graph.harmonicc\n",
    "  )\n",
    "plt.plot(alphas, kt_hc_ranks_a, c=\"k\")\n",
    "plt.title(\n",
    "  \"{}\\nCorrelation between Harmonic Centrality and PageRank\".format(\n",
    "    graph.basename\n",
    "  )\n",
    ")\n",
    "plt.xlabel(r\"PageRank $\\alpha$\")\n",
    "plt.ylabel(r\"Kendall $\\tau$\")\n",
    "plt.xlim(*alphas[[0, -1]])\n",
    "plt.show()"
   ]
  },
  {
   "cell_type": "code",
   "execution_count": null,
   "metadata": {},
   "outputs": [],
   "source": [
    "from tqdm.notebook import tqdm\n",
    "import numpy as np\n",
    "\n",
    "da = 0.1\n",
    "alphas = np.linspace(da, 1, int(1/da - 1), endpoint=False)\n",
    "kt_hc_ranks_a = np.zeros(len(alphas))\n",
    "for i, a in enumerate(tqdm(alphas)):\n",
    "  bv_sgc.compute_pagerank(a)\n",
    "  kt_hc_ranks_a[i] = jwebgraph.utils.kendall_tau(\n",
    "    bv_sgc.pagerank(a), bv_sgc.harmonicc\n",
    "  )\n",
    "plt.plot(alphas, kt_hc_ranks_a, c=\"k\")\n",
    "plt.title(\n",
    "  \"{}\\nCorrelation between Harmonic Centrality and PageRank\".format(\n",
    "    bv_sgc.basename\n",
    "  )\n",
    ")\n",
    "plt.xlabel(r\"PageRank $\\alpha$\")\n",
    "plt.ylabel(r\"Kendall $\\tau$\")\n",
    "plt.xlim(*alphas[[0, -1]])\n",
    "plt.show()"
   ]
  },
  {
   "cell_type": "markdown",
   "metadata": {},
   "source": [
    "### Closeness centrality"
   ]
  },
  {
   "cell_type": "code",
   "execution_count": null,
   "metadata": {},
   "outputs": [],
   "source": [
    "graph.compute_closenessc()\n",
    "featgraph.plots.scatter(\n",
    "  graph.pagerank, graph.closenessc,\n",
    "  xscale=\"log\",\n",
    "  marker=\".\", c=\"k\", alpha=2**(-5),\n",
    "  label=graph.basename, xlabel=\"pagerank\", ylabel=\"closeness centrality\",\n",
    ")\n",
    "scatter_refs(graph.pagerank, graph.closenessc)\n",
    "plt.show()"
   ]
  },
  {
   "cell_type": "code",
   "execution_count": null,
   "metadata": {},
   "outputs": [],
   "source": [
    "bv_sgc.compute_closenessc()\n",
    "featgraph.plots.scatter(\n",
    "  bv_sgc.pagerank, bv_sgc.closenessc,\n",
    "  xscale=\"log\",\n",
    "  marker=\".\", c=\"k\", alpha=2**(-5),\n",
    "  label=graph.basename, xlabel=\"pagerank\", ylabel=\"closeness centrality\",\n",
    ")\n",
    "plt.show()"
   ]
  },
  {
   "cell_type": "markdown",
   "metadata": {},
   "source": [
    "## Computing centralities for threshold = 46"
   ]
  },
  {
   "cell_type": "markdown",
   "metadata": {},
   "source": [
    "### Filtering on Spotify graph"
   ]
  },
  {
   "cell_type": "code",
   "execution_count": null,
   "metadata": {},
   "outputs": [],
   "source": [
    "import itertools\n",
    "\n",
    "missing_value = -20\n",
    "map_pop = list(map(lambda p: p > 46, graph.popularity(missing_value)))\n",
    "metrics_filtered_hc = list(itertools.compress(graph.harmonicc(), map_pop))\n",
    "metrics_filtered_pr = list(itertools.compress(graph.pagerank(), map_pop))\n",
    "metrics_filtered_indegrees = list(itertools.compress(graph.indegrees(), map_pop))\n",
    "graph.compute_closenessc()\n",
    "metrics_filtered_cc = list(itertools.compress(graph.closenessc(), map_pop))"
   ]
  },
  {
   "cell_type": "markdown",
   "metadata": {},
   "source": [
    "### Filtering on SGC model"
   ]
  },
  {
   "cell_type": "code",
   "execution_count": null,
   "metadata": {},
   "outputs": [],
   "source": [
    "import itertools\n",
    "\n",
    "missing_value = -20\n",
    "map_pop_sgc = list(map(lambda p: p > 46, bv_sgc.popularity(missing_value)))\n",
    "metrics_filtered_hc_sgc = list(itertools.compress(bv_sgc.harmonicc(), map_pop_sgc))\n",
    "metrics_filtered_pr_sgc = list(itertools.compress(bv_sgc.pagerank(), map_pop_sgc))\n",
    "metrics_filtered_indegrees_sgc = list(itertools.compress(bv_sgc.indegrees(), map_pop_sgc))\n",
    "bv_sgc.compute_closenessc()\n",
    "metrics_filtered_cc_sgc = list(itertools.compress(bv_sgc.closenessc(), map_pop_sgc))"
   ]
  },
  {
   "cell_type": "markdown",
   "metadata": {},
   "source": [
    "### PageRank for threshold=46 - Spotify graph"
   ]
  },
  {
   "cell_type": "code",
   "execution_count": null,
   "metadata": {},
   "outputs": [],
   "source": [
    "featgraph.plots.scatter(\n",
    "  metrics_filtered_indegrees, metrics_filtered_pr,\n",
    "  marker=\".\", c=\"k\", alpha=2**(-5),\n",
    "  label=graph.basename, xlabel=\"in-degree\", ylabel=\"pagerank\",\n",
    ")\n",
    "scatter_refs(graph.indegrees, graph.pagerank)\n",
    "plt.show()"
   ]
  },
  {
   "cell_type": "markdown",
   "metadata": {},
   "source": [
    "### PageRank for threshold=46 - SGC graph"
   ]
  },
  {
   "cell_type": "code",
   "execution_count": null,
   "metadata": {},
   "outputs": [],
   "source": [
    "featgraph.plots.scatter(\n",
    "  metrics_filtered_indegrees_sgc, metrics_filtered_pr_sgc,\n",
    "  marker=\".\", c=\"k\", alpha=2**(-5),\n",
    "  label=bv_sgc.basename, xlabel=\"in-degree\", ylabel=\"pagerank\",\n",
    ")\n",
    "\n",
    "plt.show()"
   ]
  },
  {
   "cell_type": "markdown",
   "metadata": {},
   "source": [
    "### Harmonic Centrality for threshold=46 - Spotify graph"
   ]
  },
  {
   "cell_type": "code",
   "execution_count": null,
   "metadata": {},
   "outputs": [],
   "source": [
    "graph.compute_harmonicc()\n",
    "featgraph.plots.scatter(\n",
    "  metrics_filtered_pr, metrics_filtered_hc,\n",
    "  xscale=\"log\",\n",
    "  marker=\".\", c=\"k\", alpha=2**(-5),\n",
    "  label=graph.basename, xlabel=\"pagerank\", ylabel=\"harmonic centrality\",\n",
    ")\n",
    "scatter_refs(graph.pagerank, graph.harmonicc)\n",
    "plt.show()"
   ]
  },
  {
   "cell_type": "markdown",
   "metadata": {},
   "source": [
    "### Harmonic Centrality for threshold=46 - SGC graph"
   ]
  },
  {
   "cell_type": "code",
   "execution_count": null,
   "metadata": {},
   "outputs": [],
   "source": [
    "bv_sgc.compute_harmonicc()\n",
    "featgraph.plots.scatter(\n",
    "  metrics_filtered_pr_sgc, metrics_filtered_hc_sgc,\n",
    "  xscale=\"log\",\n",
    "  marker=\".\", c=\"k\", alpha=2**(-5),\n",
    "  label=graph.basename, xlabel=\"pagerank\", ylabel=\"harmonic centrality\",\n",
    ")\n",
    "plt.show()"
   ]
  },
  {
   "cell_type": "markdown",
   "metadata": {},
   "source": [
    "### PageRank for different alphas threshold=46 - Spotify graph"
   ]
  },
  {
   "cell_type": "code",
   "execution_count": null,
   "metadata": {},
   "outputs": [],
   "source": [
    "from tqdm.notebook import tqdm\n",
    "import numpy as np\n",
    "\n",
    "da = 0.1\n",
    "alphas = np.linspace(da, 1, int(1/da - 1), endpoint=False)\n",
    "kt_hc_ranks_a = np.zeros(len(alphas))\n",
    "for i, a in enumerate(tqdm(alphas)):\n",
    "  graph.compute_pagerank(a)\n",
    "  kt_hc_ranks_a[i] = jwebgraph.utils.kendall_tau(\n",
    "    list(itertools.compress(graph.pagerank(a), map_pop)), metrics_filtered_hc\n",
    "  )\n",
    "plt.plot(alphas, kt_hc_ranks_a, c=\"k\")\n",
    "plt.title(\n",
    "  \"{}\\nCorrelation between Harmonic Centrality and PageRank\".format(\n",
    "    graph.basename\n",
    "  )\n",
    ")\n",
    "plt.xlabel(r\"PageRank $\\alpha$\")\n",
    "plt.ylabel(r\"Kendall $\\tau$\")\n",
    "plt.xlim(*alphas[[0, -1]])\n",
    "plt.show()"
   ]
  },
  {
   "cell_type": "markdown",
   "metadata": {},
   "source": [
    "### PageRank for different alphas threshold=46 - SGC graph"
   ]
  },
  {
   "cell_type": "code",
   "execution_count": null,
   "metadata": {},
   "outputs": [],
   "source": [
    "da = 0.1\n",
    "alphas = np.linspace(da, 1, int(1/da - 1), endpoint=False)\n",
    "kt_hc_ranks_a = np.zeros(len(alphas))\n",
    "for i, a in enumerate(tqdm(alphas)):\n",
    "  bv_sgc.compute_pagerank(a)\n",
    "  kt_hc_ranks_a[i] = jwebgraph.utils.kendall_tau(\n",
    "    list(itertools.compress(bv_sgc.pagerank(a), map_pop_sgc)), metrics_filtered_hc_sgc\n",
    "  )\n",
    "plt.plot(alphas, kt_hc_ranks_a, c=\"k\")\n",
    "plt.title(\n",
    "  \"{}\\nCorrelation between Harmonic Centrality and PageRank\".format(\n",
    "    bv_sgc.basename\n",
    "  )\n",
    ")\n",
    "plt.xlabel(r\"PageRank $\\alpha$\")\n",
    "plt.ylabel(r\"Kendall $\\tau$\")\n",
    "plt.xlim(*alphas[[0, -1]])\n",
    "plt.show()"
   ]
  },
  {
   "cell_type": "markdown",
   "metadata": {},
   "source": [
    "### Closeness centrality for threshold=46 - Spotify graph"
   ]
  },
  {
   "cell_type": "code",
   "execution_count": null,
   "metadata": {},
   "outputs": [],
   "source": [
    "featgraph.plots.scatter(\n",
    "  metrics_filtered_pr, metrics_filtered_cc,\n",
    "  xscale=\"log\",\n",
    "  marker=\".\", c=\"k\", alpha=2**(-5),\n",
    "  label=graph.basename, xlabel=\"pagerank\", ylabel=\"closeness centrality\",\n",
    ")\n",
    "# scatter_refs(metrics_filtered_pr, metrics_filtered_cc)\n",
    "plt.show()"
   ]
  },
  {
   "cell_type": "markdown",
   "metadata": {},
   "source": [
    "### Closeness centrality for threshold=46 - SGC graph"
   ]
  },
  {
   "cell_type": "code",
   "execution_count": null,
   "metadata": {},
   "outputs": [],
   "source": [
    "featgraph.plots.scatter(\n",
    "  metrics_filtered_pr_sgc, metrics_filtered_cc_sgc,\n",
    "  xscale=\"log\",\n",
    "  marker=\".\", c=\"k\", alpha=2**(-5),\n",
    "  label=graph.basename, xlabel=\"pagerank\", ylabel=\"closeness centrality\",\n",
    ")\n",
    "plt.show()"
   ]
  },
  {
   "cell_type": "markdown",
   "metadata": {},
   "source": [
    "## Computing centralities for threshold = 47"
   ]
  },
  {
   "cell_type": "markdown",
   "metadata": {},
   "source": [
    "### Filtering on Spotify graph"
   ]
  },
  {
   "cell_type": "code",
   "execution_count": null,
   "metadata": {},
   "outputs": [],
   "source": [
    "missing_value = -20\n",
    "map_pop = list(map(lambda p: p > 47, graph.popularity(missing_value)))\n",
    "metrics_filtered_hc = list(itertools.compress(graph.harmonicc(), map_pop))\n",
    "metrics_filtered_pr = list(itertools.compress(graph.pagerank(), map_pop))\n",
    "metrics_filtered_indegrees = list(itertools.compress(graph.indegrees(), map_pop))\n",
    "graph.compute_closenessc()\n",
    "metrics_filtered_cc = list(itertools.compress(graph.closenessc(), map_pop))"
   ]
  },
  {
   "cell_type": "markdown",
   "metadata": {},
   "source": [
    "### Filtering on SGC model"
   ]
  },
  {
   "cell_type": "code",
   "execution_count": null,
   "metadata": {},
   "outputs": [],
   "source": [
    "missing_value = -20\n",
    "map_pop_sgc = list(map(lambda p: p > 47, bv_sgc.popularity(missing_value)))\n",
    "metrics_filtered_hc_sgc = list(itertools.compress(bv_sgc.harmonicc(), map_pop_sgc))\n",
    "metrics_filtered_pr_sgc = list(itertools.compress(bv_sgc.pagerank(), map_pop_sgc))\n",
    "metrics_filtered_indegrees_sgc = list(itertools.compress(bv_sgc.indegrees(), map_pop_sgc))\n",
    "bv_sgc.compute_closenessc()\n",
    "metrics_filtered_cc_sgc = list(itertools.compress(bv_sgc.closenessc(), map_pop_sgc))"
   ]
  },
  {
   "cell_type": "markdown",
   "metadata": {},
   "source": [
    "### PageRank for threshold=47 - Spotify graph"
   ]
  },
  {
   "cell_type": "code",
   "execution_count": null,
   "metadata": {},
   "outputs": [],
   "source": [
    "featgraph.plots.scatter(\n",
    "  metrics_filtered_indegrees, metrics_filtered_pr,\n",
    "  marker=\".\", c=\"k\", alpha=2**(-5),\n",
    "  label=graph.basename, xlabel=\"in-degree\", ylabel=\"pagerank\",\n",
    ")\n",
    "scatter_refs(graph.indegrees, graph.pagerank)\n",
    "plt.show()"
   ]
  },
  {
   "cell_type": "markdown",
   "metadata": {},
   "source": [
    "### PageRank for threshold=47 - SGC graph"
   ]
  },
  {
   "cell_type": "code",
   "execution_count": null,
   "metadata": {},
   "outputs": [],
   "source": [
    "featgraph.plots.scatter(\n",
    "  metrics_filtered_indegrees_sgc, metrics_filtered_pr_sgc,\n",
    "  marker=\".\", c=\"k\", alpha=2**(-5),\n",
    "  label=bv_sgc.basename, xlabel=\"in-degree\", ylabel=\"pagerank\",\n",
    ")\n",
    "\n",
    "plt.show()"
   ]
  },
  {
   "cell_type": "markdown",
   "metadata": {},
   "source": [
    "### Harmonic Centrality for threshold=47 - Spotify graph"
   ]
  },
  {
   "cell_type": "code",
   "execution_count": null,
   "metadata": {},
   "outputs": [],
   "source": [
    "graph.compute_harmonicc()\n",
    "featgraph.plots.scatter(\n",
    "  metrics_filtered_pr, metrics_filtered_hc,\n",
    "  xscale=\"log\",\n",
    "  marker=\".\", c=\"k\", alpha=2**(-5),\n",
    "  label=graph.basename, xlabel=\"pagerank\", ylabel=\"harmonic centrality\",\n",
    ")\n",
    "scatter_refs(graph.pagerank, graph.harmonicc)\n",
    "plt.show()"
   ]
  },
  {
   "cell_type": "markdown",
   "metadata": {},
   "source": [
    "### Harmonic Centrality for threshold=47 - SGC graph"
   ]
  },
  {
   "cell_type": "code",
   "execution_count": null,
   "metadata": {},
   "outputs": [],
   "source": [
    "bv_sgc.compute_harmonicc()\n",
    "featgraph.plots.scatter(\n",
    "  metrics_filtered_pr_sgc, metrics_filtered_hc_sgc,\n",
    "  xscale=\"log\",\n",
    "  marker=\".\", c=\"k\", alpha=2**(-5),\n",
    "  label=graph.basename, xlabel=\"pagerank\", ylabel=\"harmonic centrality\",\n",
    ")\n",
    "plt.show()"
   ]
  },
  {
   "cell_type": "markdown",
   "metadata": {},
   "source": [
    "### PageRank for different alphas threshold=47 - Spotify graph"
   ]
  },
  {
   "cell_type": "code",
   "execution_count": null,
   "metadata": {},
   "outputs": [],
   "source": [
    "from tqdm.notebook import tqdm\n",
    "import numpy as np\n",
    "\n",
    "da = 0.1\n",
    "alphas = np.linspace(da, 1, int(1/da - 1), endpoint=False)\n",
    "kt_hc_ranks_a = np.zeros(len(alphas))\n",
    "for i, a in enumerate(tqdm(alphas)):\n",
    "  graph.compute_pagerank(a)\n",
    "  kt_hc_ranks_a[i] = jwebgraph.utils.kendall_tau(\n",
    "    list(itertools.compress(graph.pagerank(a), map_pop)), metrics_filtered_hc\n",
    "  )\n",
    "plt.plot(alphas, kt_hc_ranks_a, c=\"k\")\n",
    "plt.title(\n",
    "  \"{}\\nCorrelation between Harmonic Centrality and PageRank\".format(\n",
    "    graph.basename\n",
    "  )\n",
    ")\n",
    "plt.xlabel(r\"PageRank $\\alpha$\")\n",
    "plt.ylabel(r\"Kendall $\\tau$\")\n",
    "plt.xlim(*alphas[[0, -1]])\n",
    "plt.show()"
   ]
  },
  {
   "cell_type": "markdown",
   "metadata": {},
   "source": [
    "### PageRank for different alphas threshold=47 - SGC graph"
   ]
  },
  {
   "cell_type": "code",
   "execution_count": null,
   "metadata": {},
   "outputs": [],
   "source": [
    "da = 0.1\n",
    "alphas = np.linspace(da, 1, int(1/da - 1), endpoint=False)\n",
    "kt_hc_ranks_a = np.zeros(len(alphas))\n",
    "for i, a in enumerate(tqdm(alphas)):\n",
    "  bv_sgc.compute_pagerank(a)\n",
    "  kt_hc_ranks_a[i] = jwebgraph.utils.kendall_tau(\n",
    "    list(itertools.compress(bv_sgc.pagerank(a), map_pop_sgc)), metrics_filtered_hc_sgc\n",
    "  )\n",
    "plt.plot(alphas, kt_hc_ranks_a, c=\"k\")\n",
    "plt.title(\n",
    "  \"{}\\nCorrelation between Harmonic Centrality and PageRank\".format(\n",
    "    bv_sgc.basename\n",
    "  )\n",
    ")\n",
    "plt.xlabel(r\"PageRank $\\alpha$\")\n",
    "plt.ylabel(r\"Kendall $\\tau$\")\n",
    "plt.xlim(*alphas[[0, -1]])\n",
    "plt.show()"
   ]
  },
  {
   "cell_type": "markdown",
   "metadata": {},
   "source": [
    "### Closeness centrality for threshold=47 - Spotify graph"
   ]
  },
  {
   "cell_type": "code",
   "execution_count": null,
   "metadata": {},
   "outputs": [],
   "source": [
    "featgraph.plots.scatter(\n",
    "  metrics_filtered_pr, metrics_filtered_cc,\n",
    "  xscale=\"log\",\n",
    "  marker=\".\", c=\"k\", alpha=2**(-5),\n",
    "  label=graph.basename, xlabel=\"pagerank\", ylabel=\"closeness centrality\",\n",
    ")\n",
    "# scatter_refs(metrics_filtered_pr, metrics_filtered_cc)\n",
    "plt.show()"
   ]
  },
  {
   "cell_type": "markdown",
   "metadata": {},
   "source": [
    "### Closeness centrality for threshold=47 - SGC graph"
   ]
  },
  {
   "cell_type": "code",
   "execution_count": null,
   "metadata": {},
   "outputs": [],
   "source": [
    "featgraph.plots.scatter(\n",
    "  metrics_filtered_pr_sgc, metrics_filtered_cc_sgc,\n",
    "  xscale=\"log\",\n",
    "  marker=\".\", c=\"k\", alpha=2**(-5),\n",
    "  label=graph.basename, xlabel=\"pagerank\", ylabel=\"closeness centrality\",\n",
    ")\n",
    "plt.show()"
   ]
  },
  {
   "cell_type": "markdown",
   "metadata": {},
   "source": [
    "## Computing centralities for threshold = 60"
   ]
  },
  {
   "cell_type": "markdown",
   "metadata": {},
   "source": [
    "### Filtering on Spotify graph"
   ]
  },
  {
   "cell_type": "code",
   "execution_count": null,
   "metadata": {},
   "outputs": [],
   "source": [
    "missing_value = -20\n",
    "map_pop = list(map(lambda p: p > 60, graph.popularity(missing_value)))\n",
    "metrics_filtered_hc = list(itertools.compress(graph.harmonicc(), map_pop))\n",
    "metrics_filtered_pr = list(itertools.compress(graph.pagerank(), map_pop))\n",
    "metrics_filtered_indegrees = list(itertools.compress(graph.indegrees(), map_pop))\n",
    "graph.compute_closenessc()\n",
    "metrics_filtered_cc = list(itertools.compress(graph.closenessc(), map_pop))"
   ]
  },
  {
   "cell_type": "markdown",
   "metadata": {},
   "source": [
    "### Filtering on SGC model"
   ]
  },
  {
   "cell_type": "code",
   "execution_count": null,
   "metadata": {},
   "outputs": [],
   "source": [
    "missing_value = -20\n",
    "map_pop_sgc = list(map(lambda p: p > 60, bv_sgc.popularity(missing_value)))\n",
    "metrics_filtered_hc_sgc = list(itertools.compress(bv_sgc.harmonicc(), map_pop_sgc))\n",
    "metrics_filtered_pr_sgc = list(itertools.compress(bv_sgc.pagerank(), map_pop_sgc))\n",
    "metrics_filtered_indegrees_sgc = list(itertools.compress(bv_sgc.indegrees(), map_pop_sgc))\n",
    "bv_sgc.compute_closenessc()\n",
    "metrics_filtered_cc_sgc = list(itertools.compress(bv_sgc.closenessc(), map_pop_sgc))"
   ]
  },
  {
   "cell_type": "markdown",
   "metadata": {},
   "source": [
    "### PageRank for threshold=60 - Spotify graph"
   ]
  },
  {
   "cell_type": "code",
   "execution_count": null,
   "metadata": {},
   "outputs": [],
   "source": [
    "featgraph.plots.scatter(\n",
    "  metrics_filtered_indegrees, metrics_filtered_pr,\n",
    "  marker=\".\", c=\"k\", alpha=2**(-5),\n",
    "  label=graph.basename, xlabel=\"in-degree\", ylabel=\"pagerank\",\n",
    ")\n",
    "scatter_refs(graph.indegrees, graph.pagerank)\n",
    "plt.show()"
   ]
  },
  {
   "cell_type": "markdown",
   "metadata": {},
   "source": [
    "### PageRank for threshold=60 - SGC graph"
   ]
  },
  {
   "cell_type": "code",
   "execution_count": null,
   "metadata": {},
   "outputs": [],
   "source": [
    "featgraph.plots.scatter(\n",
    "  metrics_filtered_indegrees_sgc, metrics_filtered_pr_sgc,\n",
    "  marker=\".\", c=\"k\", alpha=2**(-5),\n",
    "  label=bv_sgc.basename, xlabel=\"in-degree\", ylabel=\"pagerank\",\n",
    ")\n",
    "\n",
    "plt.show()"
   ]
  },
  {
   "cell_type": "markdown",
   "metadata": {},
   "source": [
    "### Harmonic Centrality for threshold=60 - Spotify graph"
   ]
  },
  {
   "cell_type": "code",
   "execution_count": null,
   "metadata": {},
   "outputs": [],
   "source": [
    "graph.compute_harmonicc()\n",
    "featgraph.plots.scatter(\n",
    "  metrics_filtered_pr, metrics_filtered_hc,\n",
    "  xscale=\"log\",\n",
    "  marker=\".\", c=\"k\", alpha=2**(-5),\n",
    "  label=graph.basename, xlabel=\"pagerank\", ylabel=\"harmonic centrality\",\n",
    ")\n",
    "scatter_refs(graph.pagerank, graph.harmonicc)\n",
    "plt.show()"
   ]
  },
  {
   "cell_type": "markdown",
   "metadata": {},
   "source": [
    "### Harmonic Centrality for threshold=60 - SGC graph"
   ]
  },
  {
   "cell_type": "code",
   "execution_count": null,
   "metadata": {},
   "outputs": [],
   "source": [
    "bv_sgc.compute_harmonicc()\n",
    "featgraph.plots.scatter(\n",
    "  metrics_filtered_pr_sgc, metrics_filtered_hc_sgc,\n",
    "  xscale=\"log\",\n",
    "  marker=\".\", c=\"k\", alpha=2**(-5),\n",
    "  label=graph.basename, xlabel=\"pagerank\", ylabel=\"harmonic centrality\",\n",
    ")\n",
    "plt.show()"
   ]
  },
  {
   "cell_type": "markdown",
   "metadata": {},
   "source": [
    "### PageRank for different alphas threshold=60 - Spotify graph"
   ]
  },
  {
   "cell_type": "code",
   "execution_count": null,
   "metadata": {},
   "outputs": [],
   "source": [
    "from tqdm.notebook import tqdm\n",
    "import numpy as np\n",
    "\n",
    "da = 0.1\n",
    "alphas = np.linspace(da, 1, int(1/da - 1), endpoint=False)\n",
    "kt_hc_ranks_a = np.zeros(len(alphas))\n",
    "for i, a in enumerate(tqdm(alphas)):\n",
    "  graph.compute_pagerank(a)\n",
    "  kt_hc_ranks_a[i] = jwebgraph.utils.kendall_tau(\n",
    "    list(itertools.compress(graph.pagerank(a), map_pop)), metrics_filtered_hc\n",
    "  )\n",
    "plt.plot(alphas, kt_hc_ranks_a, c=\"k\")\n",
    "plt.title(\n",
    "  \"{}\\nCorrelation between Harmonic Centrality and PageRank\".format(\n",
    "    graph.basename\n",
    "  )\n",
    ")\n",
    "plt.xlabel(r\"PageRank $\\alpha$\")\n",
    "plt.ylabel(r\"Kendall $\\tau$\")\n",
    "plt.xlim(*alphas[[0, -1]])\n",
    "plt.show()"
   ]
  },
  {
   "cell_type": "markdown",
   "metadata": {},
   "source": [
    "### PageRank for different alphas threshold=60 - SGC graph"
   ]
  },
  {
   "cell_type": "code",
   "execution_count": null,
   "metadata": {},
   "outputs": [],
   "source": [
    "da = 0.1\n",
    "alphas = np.linspace(da, 1, int(1/da - 1), endpoint=False)\n",
    "kt_hc_ranks_a = np.zeros(len(alphas))\n",
    "for i, a in enumerate(tqdm(alphas)):\n",
    "  bv_sgc.compute_pagerank(a)\n",
    "  kt_hc_ranks_a[i] = jwebgraph.utils.kendall_tau(\n",
    "    list(itertools.compress(bv_sgc.pagerank(a), map_pop_sgc)), metrics_filtered_hc_sgc\n",
    "  )\n",
    "plt.plot(alphas, kt_hc_ranks_a, c=\"k\")\n",
    "plt.title(\n",
    "  \"{}\\nCorrelation between Harmonic Centrality and PageRank\".format(\n",
    "    bv_sgc.basename\n",
    "  )\n",
    ")\n",
    "plt.xlabel(r\"PageRank $\\alpha$\")\n",
    "plt.ylabel(r\"Kendall $\\tau$\")\n",
    "plt.xlim(*alphas[[0, -1]])\n",
    "plt.show()"
   ]
  },
  {
   "cell_type": "markdown",
   "metadata": {},
   "source": [
    "### Closeness centrality for threshold=60 - Spotify graph"
   ]
  },
  {
   "cell_type": "code",
   "execution_count": null,
   "metadata": {},
   "outputs": [],
   "source": [
    "featgraph.plots.scatter(\n",
    "  metrics_filtered_pr, metrics_filtered_cc,\n",
    "  xscale=\"log\",\n",
    "  marker=\".\", c=\"k\", alpha=2**(-5),\n",
    "  label=graph.basename, xlabel=\"pagerank\", ylabel=\"closeness centrality\",\n",
    ")\n",
    "# scatter_refs(metrics_filtered_pr, metrics_filtered_cc)\n",
    "plt.show()"
   ]
  },
  {
   "cell_type": "markdown",
   "metadata": {},
   "source": [
    "### Closeness centrality for threshold=60 - SGC graph"
   ]
  },
  {
   "cell_type": "code",
   "execution_count": null,
   "metadata": {},
   "outputs": [],
   "source": [
    "featgraph.plots.scatter(\n",
    "  metrics_filtered_pr_sgc, metrics_filtered_cc_sgc,\n",
    "  xscale=\"log\",\n",
    "  marker=\".\", c=\"k\", alpha=2**(-5),\n",
    "  label=graph.basename, xlabel=\"pagerank\", ylabel=\"closeness centrality\",\n",
    ")\n",
    "plt.show()"
   ]
  }
 ],
 "metadata": {
  "kernelspec": {
   "display_name": "Python 3 (ipykernel)",
   "language": "python",
   "name": "python3"
  },
  "language_info": {
   "codemirror_mode": {
    "name": "ipython",
    "version": 3
   },
   "file_extension": ".py",
   "mimetype": "text/x-python",
   "name": "python",
   "nbconvert_exporter": "python",
   "pygments_lexer": "ipython3",
   "version": "3.8.5"
  }
 },
 "nbformat": 4,
 "nbformat_minor": 4
}
