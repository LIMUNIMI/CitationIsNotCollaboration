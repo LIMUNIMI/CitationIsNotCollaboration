{
 "cells": [
  {
   "cell_type": "markdown",
   "id": "446a6583",
   "metadata": {},
   "source": [
    "# Configure"
   ]
  },
  {
   "cell_type": "markdown",
   "id": "7333de15",
   "metadata": {},
   "source": [
    "Set the dataset base path"
   ]
  },
  {
   "cell_type": "code",
   "execution_count": null,
   "id": "cfa5a99a",
   "metadata": {},
   "outputs": [],
   "source": [
    "spotify_basename = \"graphs/spotify-2018\""
   ]
  },
  {
   "cell_type": "markdown",
   "id": "0ca3551f",
   "metadata": {},
   "source": [
    "Set `jvm_path` to your java virtual machine full path"
   ]
  },
  {
   "cell_type": "code",
   "execution_count": null,
   "id": "7052a749",
   "metadata": {},
   "outputs": [],
   "source": [
    "jvm_path = None"
   ]
  },
  {
   "cell_type": "markdown",
   "id": "20cd2796",
   "metadata": {},
   "source": [
    "Set up logging"
   ]
  },
  {
   "cell_type": "code",
   "execution_count": null,
   "id": "59d036bc",
   "metadata": {},
   "outputs": [],
   "source": [
    "import logging\n",
    "logging.basicConfig(\n",
    "  level=logging.INFO,\n",
    "  format='%(asctime)s %(name)-12s %(levelname)-8s: %(message)s',\n",
    "  datefmt='%Y-%m-%d %H:%M:%S',\n",
    ")"
   ]
  },
  {
   "cell_type": "markdown",
   "id": "b0096d6e",
   "metadata": {},
   "source": [
    "Start jvm"
   ]
  },
  {
   "cell_type": "code",
   "execution_count": null,
   "id": "55ed7aaa",
   "metadata": {},
   "outputs": [],
   "source": [
    "from featgraph.jwebgraph import start_jvm\n",
    "start_jvm(jvm_path=jvm_path)"
   ]
  },
  {
   "cell_type": "markdown",
   "id": "d3208ea4",
   "metadata": {},
   "source": [
    "# Working on Spotify\n",
    "## Load graph"
   ]
  },
  {
   "cell_type": "code",
   "execution_count": null,
   "id": "8b8628e7",
   "metadata": {},
   "outputs": [],
   "source": [
    "import featgraph.jwebgraph.utils\n",
    "from featgraph import jwebgraph\n",
    "import os\n",
    "\n",
    "graph = jwebgraph.utils.BVGraph(spotify_basename)\n",
    "print(graph)\n",
    "\n",
    "for r in (\n",
    "  \"graph\", \"properties\", \"ids.txt\"\n",
    "):\n",
    "  if not os.path.isfile(graph.path(r)):\n",
    "    raise FileNotFoundError(graph.path(r))"
   ]
  },
  {
   "cell_type": "markdown",
   "id": "249d1a6e",
   "metadata": {},
   "source": [
    "Reconstruct offsets"
   ]
  },
  {
   "cell_type": "code",
   "execution_count": null,
   "id": "61989aed",
   "metadata": {},
   "outputs": [],
   "source": [
    "graph.reconstruct_offsets()"
   ]
  },
  {
   "cell_type": "markdown",
   "id": "9ff590f9",
   "metadata": {},
   "source": [
    "Load and check number of nodes and arcs"
   ]
  },
  {
   "cell_type": "code",
   "execution_count": null,
   "id": "13229a56",
   "metadata": {},
   "outputs": [],
   "source": [
    "from featgraph.misc import pretty_print_int\n",
    "\n",
    "print(\"Graph '{}' has\\n{:>11} nodes\\n{:>11} arcs\".format(\n",
    "  graph.basename,\n",
    "  pretty_print_int(graph.numNodes()),\n",
    "  pretty_print_int(graph.numArcs()),\n",
    "))"
   ]
  },
  {
   "cell_type": "markdown",
   "id": "09f38fcd",
   "metadata": {},
   "source": [
    "## Degree correlation\n",
    "Compute degree files"
   ]
  },
  {
   "cell_type": "code",
   "execution_count": null,
   "id": "ce8e9c73",
   "metadata": {},
   "outputs": [],
   "source": [
    "graph.compute_degrees()"
   ]
  },
  {
   "cell_type": "markdown",
   "id": "2e269e6b",
   "metadata": {},
   "source": [
    "Prepare scatter plots reference artists"
   ]
  },
  {
   "cell_type": "code",
   "execution_count": null,
   "id": "670a706b",
   "metadata": {},
   "outputs": [],
   "source": [
    "from matplotlib import pyplot as plt\n",
    "import featgraph.plots\n",
    "\n",
    "refnames = (\n",
    "  \"Ludwig van Beethoven\",\n",
    "  \"Robert Farnon Orchestra\",\n",
    "  \"Ed Sheeran\",\n",
    "  \"Rick Ross\",\n",
    "  \"Vulfpeck\",\n",
    ")\n",
    "refidx = tuple(\n",
    "  graph.artist(name=n).index\n",
    "  for n in refnames\n",
    ")\n",
    "\n",
    "def scatter_refs(x, y, **kwargs):\n",
    "  xs = x() if callable(x) else x\n",
    "  xs = [xs[i] for i in refidx]\n",
    "  ys = y() if callable(y) else y\n",
    "  ys = [ys[i] for i in refidx]\n",
    "  for xi, yi, ni in zip(xs, ys, refnames):\n",
    "    plt.scatter(xi, yi, label=ni, **kwargs)\n",
    "  plt.legend()"
   ]
  },
  {
   "cell_type": "markdown",
   "id": "b175940a",
   "metadata": {},
   "source": [
    "Degree scatterplot"
   ]
  },
  {
   "cell_type": "code",
   "execution_count": null,
   "id": "12dfb460",
   "metadata": {},
   "outputs": [],
   "source": [
    "featgraph.plots.scatter(\n",
    "  graph.outdegrees, graph.indegrees,\n",
    "  marker=\".\", c=\"k\", alpha=2**(-5),\n",
    "  label=graph.basename, xlabel=\"out-degree\", ylabel=\"in-degree\",\n",
    ")\n",
    "scatter_refs(graph.outdegrees, graph.indegrees)\n",
    "plt.show()"
   ]
  },
  {
   "cell_type": "markdown",
   "id": "062b794d",
   "metadata": {},
   "source": [
    "## PageRank\n",
    "Compute transpose"
   ]
  },
  {
   "cell_type": "code",
   "execution_count": null,
   "id": "c9dfe238",
   "metadata": {},
   "outputs": [],
   "source": [
    "graph.compute_transpose()"
   ]
  },
  {
   "cell_type": "markdown",
   "id": "1ba5017e",
   "metadata": {},
   "source": [
    "Compute PageRank"
   ]
  },
  {
   "cell_type": "code",
   "execution_count": null,
   "id": "9b38b378",
   "metadata": {},
   "outputs": [],
   "source": [
    "graph.compute_pagerank()"
   ]
  },
  {
   "cell_type": "markdown",
   "id": "d5c92e3b",
   "metadata": {},
   "source": [
    "Plot pagerank against indegree"
   ]
  },
  {
   "cell_type": "code",
   "execution_count": null,
   "id": "2c29b480",
   "metadata": {},
   "outputs": [],
   "source": [
    "featgraph.plots.scatter(\n",
    "  graph.indegrees, graph.pagerank,\n",
    "  marker=\".\", c=\"k\", alpha=2**(-5),\n",
    "  label=graph.basename, xlabel=\"in-degree\", ylabel=\"pagerank\",\n",
    ")\n",
    "scatter_refs(graph.indegrees, graph.pagerank)\n",
    "plt.show()"
   ]
  },
  {
   "cell_type": "markdown",
   "id": "a0629e25",
   "metadata": {},
   "source": [
    "## HyperBall\n",
    "Computer HyperBall on the transposed graph to compute the incoming-distances distribution"
   ]
  },
  {
   "cell_type": "code",
   "execution_count": null,
   "id": "ac30af91",
   "metadata": {},
   "outputs": [],
   "source": [
    "graph.compute_neighborhood()"
   ]
  },
  {
   "cell_type": "markdown",
   "id": "fb3962ed",
   "metadata": {},
   "source": [
    "Plot the neighbourhood function estimate"
   ]
  },
  {
   "cell_type": "code",
   "execution_count": null,
   "id": "6f8affbf",
   "metadata": {},
   "outputs": [],
   "source": [
    "ax = plt.subplot(211)\n",
    "plt.plot(graph.neighborhood(), c=\"k\")\n",
    "\n",
    "plt.ylabel(\"cumulative frequency (#pairs)\")\n",
    "plt.title(\"neighborhood function\")\n",
    "\n",
    "plt.subplot(212, sharex=ax)\n",
    "plt.plot(graph.distances(), c=\"k\")\n",
    "\n",
    "plt.xlabel(\"distance\")\n",
    "plt.ylabel(\"frequency (#pairs)\")\n",
    "plt.title(\"distance function\")\n",
    "\n",
    "plt.gcf().suptitle(\"{}\\nHyperBall ($log_2m$ = 8)\".format(\n",
    "  graph.basename,\n",
    "))\n",
    "plt.gcf().set_size_inches([\n",
    "  plt.gcf().get_size_inches()[0],\n",
    "  2*plt.gcf().get_size_inches()[1],\n",
    "])\n",
    "plt.show()"
   ]
  },
  {
   "cell_type": "markdown",
   "id": "44f8428d",
   "metadata": {},
   "source": [
    "Compute statistics"
   ]
  },
  {
   "cell_type": "code",
   "execution_count": null,
   "id": "3d183be1",
   "metadata": {},
   "outputs": [],
   "source": [
    "from scipy import stats\n",
    "import numpy as np\n",
    "\n",
    "nf = graph.neighborhood()\n",
    "df = graph.distances()\n",
    "\n",
    "df_rv = stats.rv_discrete(values=(\n",
    "  np.arange(len(df)),\n",
    "  df / nf[-1],\n",
    "))\n",
    "\n",
    "df_mode = np.argmax(df)\n",
    "print(\"\"\"Distance\n",
    "  mode: {} ({:.2f}% of pairs)\n",
    "  mean: {:.3f}\n",
    "  std:  {:.3f}\n",
    "  max:  {}\"\"\".format(\n",
    "    df_mode, 100 * df[df_mode] / nf[-1],\n",
    "    df_rv.mean(),\n",
    "    df_rv.std(),\n",
    "    len(df) - 1,\n",
    "  )\n",
    ")"
   ]
  },
  {
   "cell_type": "markdown",
   "id": "17a60163",
   "metadata": {},
   "source": [
    "## Harmonic Centrality"
   ]
  },
  {
   "cell_type": "code",
   "execution_count": null,
   "id": "dd7c3ff8",
   "metadata": {},
   "outputs": [],
   "source": [
    "graph.compute_harmonicc()"
   ]
  },
  {
   "cell_type": "code",
   "execution_count": null,
   "id": "e7eeeb6a",
   "metadata": {},
   "outputs": [],
   "source": [
    "featgraph.plots.scatter(\n",
    "  graph.pagerank, graph.harmonicc,\n",
    "  xscale=\"log\",\n",
    "  marker=\".\", c=\"k\", alpha=2**(-5),\n",
    "  label=graph.basename, xlabel=\"pagerank\", ylabel=\"harmonic centrality\",\n",
    ")\n",
    "scatter_refs(graph.pagerank, graph.harmonicc)\n",
    "plt.show()"
   ]
  },
  {
   "cell_type": "markdown",
   "id": "7b57b37c",
   "metadata": {},
   "source": [
    "## PageRank changing $\\alpha$\n",
    "Compute PageRank for different values of $\\alpha$"
   ]
  },
  {
   "cell_type": "code",
   "execution_count": null,
   "id": "ae526d79",
   "metadata": {},
   "outputs": [],
   "source": [
    "from tqdm.notebook import tqdm\n",
    "\n",
    "da = 0.1\n",
    "alphas = np.linspace(da, 1, int(1/da - 1), endpoint=False)\n",
    "kt_hc_ranks_a = np.zeros(len(alphas))\n",
    "for i, a in enumerate(tqdm(alphas)):\n",
    "  graph.compute_pagerank(a)\n",
    "  kt_hc_ranks_a[i] = jwebgraph.utils.kendall_tau(\n",
    "    graph.pagerank(a), graph.harmonicc\n",
    "  )"
   ]
  },
  {
   "cell_type": "code",
   "execution_count": null,
   "id": "b5c3dc43",
   "metadata": {},
   "outputs": [],
   "source": [
    "plt.plot(alphas, kt_hc_ranks_a, c=\"k\")\n",
    "plt.title(\n",
    "  \"{}\\nCorrelation between Harmonic Centrality and PageRank\".format(\n",
    "    graph.basename\n",
    "  )\n",
    ")\n",
    "plt.xlabel(r\"PageRank $\\alpha$\")\n",
    "plt.ylabel(r\"Kendall $\\tau$\")\n",
    "plt.xlim(*alphas[[0, -1]])\n",
    "plt.show()"
   ]
  },
  {
   "cell_type": "markdown",
   "id": "ce8e388b",
   "metadata": {},
   "source": [
    "The 10 nodes that have the largest PageRank at $\\alpha=0.90$"
   ]
  },
  {
   "cell_type": "code",
   "execution_count": null,
   "id": "2feea153",
   "metadata": {},
   "outputs": [],
   "source": [
    "for i, a in enumerate(graph.best(10, graph.pagerank(alpha=0.90))):\n",
    "  print(\"{:>2}) {}\".format(i+1, a.name or \"\"))"
   ]
  },
  {
   "cell_type": "markdown",
   "id": "87e52c27",
   "metadata": {},
   "source": [
    "The 10 nodes that have the largest Harmonic Centrality"
   ]
  },
  {
   "cell_type": "code",
   "execution_count": null,
   "id": "8138b1a2",
   "metadata": {},
   "outputs": [],
   "source": [
    "for i, a in enumerate(graph.best(10, graph.harmonicc)):\n",
    "  print(\"{:>2}) {}\".format(i+1, a.name or \"\"))"
   ]
  },
  {
   "cell_type": "markdown",
   "id": "145c0f21",
   "metadata": {},
   "source": [
    "Jaccard coefficient between the top-10"
   ]
  },
  {
   "cell_type": "code",
   "execution_count": null,
   "id": "d8545c74",
   "metadata": {},
   "outputs": [],
   "source": [
    "print(\"Jaccard index: {:.2f}%\".format(\n",
    "  100 * jwebgraph.utils.jaccard(\n",
    "    graph.best(10, graph.pagerank(alpha=0.90)),\n",
    "    graph.best(10, graph.harmonicc),\n",
    "  )\n",
    "))"
   ]
  },
  {
   "cell_type": "markdown",
   "id": "11762899",
   "metadata": {},
   "source": [
    "Jaccard coefficient between the top-100"
   ]
  },
  {
   "cell_type": "code",
   "execution_count": null,
   "id": "58ca32a8",
   "metadata": {},
   "outputs": [],
   "source": [
    "print(\"Jaccard index: {:.2f}%\".format(\n",
    "  100 * jwebgraph.utils.jaccard(\n",
    "    graph.best(100, graph.pagerank(alpha=0.90)),\n",
    "    graph.best(100, graph.harmonicc),\n",
    "  )\n",
    "))"
   ]
  },
  {
   "cell_type": "markdown",
   "id": "2653c620",
   "metadata": {},
   "source": [
    "## Bonus: plot popularity vs graph analytics"
   ]
  },
  {
   "cell_type": "code",
   "execution_count": null,
   "id": "2f051865",
   "metadata": {},
   "outputs": [],
   "source": [
    "missing_value = -20\n",
    "\n",
    "def popularity(missing_value=str(missing_value)):\n",
    "  with open(graph.path(\"popularity\", \"txt\"), \"r\") as f:\n",
    "    return [float(r.rstrip(\"\\n\") or missing_value) for r in f]\n",
    "\n",
    "popularity_ticks = (\n",
    "  [missing_value, *(np.arange(6) * 20)],\n",
    "  [\"no data\", *list(map(\"{:.0f}\".format, np.arange(6) * 20))],\n",
    ")"
   ]
  },
  {
   "cell_type": "code",
   "execution_count": null,
   "id": "49ff1707",
   "metadata": {},
   "outputs": [],
   "source": [
    "featgraph.plots.scatter(\n",
    "  graph.pagerank, popularity,\n",
    "  kendall_tau=False,\n",
    "  xscale=\"log\",\n",
    "  marker=\".\", c=\"k\", alpha=2**(-5),\n",
    "  label=graph.basename, xlabel=\"pagerank\", ylabel=\"popularity\",\n",
    ")\n",
    "scatter_refs(graph.pagerank, popularity)\n",
    "plt.yticks(*popularity_ticks)\n",
    "plt.legend(loc=\"lower right\")\n",
    "plt.show()"
   ]
  },
  {
   "cell_type": "code",
   "execution_count": null,
   "id": "c3f58d44",
   "metadata": {},
   "outputs": [],
   "source": [
    "featgraph.plots.scatter(\n",
    "  graph.harmonicc, popularity,\n",
    "  kendall_tau=False,\n",
    "  marker=\".\", c=\"k\", alpha=2**(-5),\n",
    "  label=graph.basename, xlabel=\"harmonic centrality\", ylabel=\"popularity\",\n",
    ")\n",
    "scatter_refs(graph.harmonicc, popularity)\n",
    "plt.yticks(*popularity_ticks)\n",
    "plt.legend(loc=\"upper left\")\n",
    "plt.show()"
   ]
  }
 ],
 "metadata": {
  "kernelspec": {
   "display_name": "Python 3 (ipykernel)",
   "language": "python",
   "name": "python3"
  },
  "language_info": {
   "codemirror_mode": {
    "name": "ipython",
    "version": 3
   },
   "file_extension": ".py",
   "mimetype": "text/x-python",
   "name": "python",
   "nbconvert_exporter": "python",
   "pygments_lexer": "ipython3",
   "version": "3.8.10"
  }
 },
 "nbformat": 4,
 "nbformat_minor": 5
}
