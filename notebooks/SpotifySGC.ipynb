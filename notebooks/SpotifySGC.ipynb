{
 "cells": [
  {
   "cell_type": "markdown",
   "metadata": {},
   "source": [
    "# Transitions in Centralities\n",
    "Comparison of centralities transitions in the Spotify graph and in the SGC model"
   ]
  },
  {
   "cell_type": "markdown",
   "metadata": {},
   "source": [
    "## Configure"
   ]
  },
  {
   "cell_type": "markdown",
   "metadata": {},
   "source": [
    "Set the dataset base path"
   ]
  },
  {
   "cell_type": "code",
   "execution_count": null,
   "metadata": {},
   "outputs": [],
   "source": [
    "spotify_basename = \"graphs/spotify-2018\""
   ]
  },
  {
   "cell_type": "markdown",
   "metadata": {},
   "source": [
    "Set the random graph base path"
   ]
  },
  {
   "cell_type": "code",
   "execution_count": null,
   "metadata": {},
   "outputs": [],
   "source": [
    "sgc_basename = \"graphs/sgc\""
   ]
  },
  {
   "cell_type": "markdown",
   "metadata": {},
   "source": [
    "Set the centralities CSV path"
   ]
  },
  {
   "cell_type": "code",
   "execution_count": null,
   "metadata": {},
   "outputs": [],
   "source": [
    "csv_path = \"./centralities_comparison.csv\""
   ]
  },
  {
   "cell_type": "markdown",
   "metadata": {},
   "source": [
    "Set `jvm_path` to your java virtual machine full path"
   ]
  },
  {
   "cell_type": "code",
   "execution_count": null,
   "metadata": {},
   "outputs": [],
   "source": [
    "jvm_path = None"
   ]
  },
  {
   "cell_type": "markdown",
   "metadata": {},
   "source": [
    "Set up logging"
   ]
  },
  {
   "cell_type": "code",
   "execution_count": null,
   "metadata": {},
   "outputs": [],
   "source": [
    "import logging\n",
    "logging.basicConfig(\n",
    "  level=logging.INFO,\n",
    "  format='%(asctime)s %(name)-12s %(levelname)-8s: %(message)s',\n",
    "  datefmt='%Y-%m-%d %H:%M:%S',\n",
    ")"
   ]
  },
  {
   "cell_type": "markdown",
   "metadata": {},
   "source": [
    "Start jvm"
   ]
  },
  {
   "cell_type": "code",
   "execution_count": null,
   "metadata": {},
   "outputs": [],
   "source": [
    "from featgraph.jwebgraph import start_jvm\n",
    "start_jvm(jvm_path=jvm_path)"
   ]
  },
  {
   "cell_type": "markdown",
   "metadata": {},
   "source": [
    "## Load the Spotify graph"
   ]
  },
  {
   "cell_type": "code",
   "execution_count": null,
   "metadata": {},
   "outputs": [],
   "source": [
    "import featgraph.jwebgraph.utils\n",
    "from featgraph import jwebgraph\n",
    "import os\n",
    "\n",
    "graph = jwebgraph.utils.BVGraph(spotify_basename)\n",
    "print(graph)\n",
    "\n",
    "for r in (\n",
    "  \"graph\", \"properties\", \"ids.txt\"\n",
    "):\n",
    "  if not os.path.isfile(graph.path(r)):\n",
    "    raise FileNotFoundError(graph.path(r))"
   ]
  },
  {
   "cell_type": "markdown",
   "metadata": {},
   "source": [
    "## Sample a graph from the SGC model"
   ]
  },
  {
   "cell_type": "code",
   "execution_count": null,
   "metadata": {},
   "outputs": [],
   "source": [
    "from featgraph import sgc, pathutils\n",
    "\n",
    "seed = 42\n",
    "sgc_model = sgc.SGCModel()\n",
    "sgc_graph = jwebgraph.utils.BVGraph(sgc_basename)\n",
    "if pathutils.notisglob(sgc_graph.path(\"*\"), msg=\"Found: %.40s... Skipping\"):\n",
    "  logging.info(\"Sampling SGC graph\")\n",
    "  sgc_nxgraph = sgc_model(seed=seed)\n",
    "  logging.info(\"Converting nxgraph to BVGraph\")\n",
    "  sgc.to_bv(sgc_nxgraph, sgc_basename)"
   ]
  },
  {
   "cell_type": "markdown",
   "metadata": {},
   "source": [
    "## Compute subgraphs for different thresholds\n",
    "Define data structure"
   ]
  },
  {
   "cell_type": "code",
   "execution_count": null,
   "metadata": {},
   "outputs": [],
   "source": [
    "from featgraph.sgc import ThresholdComparison\n",
    "\n",
    "tc = ThresholdComparison(\n",
    "  ThresholdComparison.sgc_graph(sgc_graph),\n",
    "  ThresholdComparison.spotify_graph(graph),\n",
    "  thresholds=tuple(range(81)),\n",
    ")\n",
    "\n",
    "print(f\"Thresholding based on {tc.attribute} at thresholds:\\n  {', '.join(map(str, tc.thresholds))}\")"
   ]
  },
  {
   "cell_type": "markdown",
   "metadata": {},
   "source": [
    "Perform thresholing"
   ]
  },
  {
   "cell_type": "code",
   "execution_count": null,
   "metadata": {},
   "outputs": [],
   "source": [
    "from unittest.mock import patch\n",
    "from tqdm.notebook import tqdm\n",
    "import featgraph\n",
    "\n",
    "with patch.object(featgraph.logger, \"info\", lambda *_: None):\n",
    "  tc.threshold_graphs(tqdm=tqdm)"
   ]
  },
  {
   "cell_type": "markdown",
   "metadata": {},
   "source": [
    "Compute centralities"
   ]
  },
  {
   "cell_type": "code",
   "execution_count": null,
   "metadata": {},
   "outputs": [],
   "source": [
    "with patch.object(featgraph.logger, \"info\", lambda *_: None):\n",
    "  tc.compute_centralities(tqdm=tqdm)"
   ]
  },
  {
   "cell_type": "markdown",
   "metadata": {},
   "source": [
    "Build dataframe"
   ]
  },
  {
   "cell_type": "code",
   "execution_count": null,
   "metadata": {},
   "outputs": [],
   "source": [
    "df = tc.dataframe(\"graphs/spotify-2018_centrality-transitions.csv\", tqdm=tqdm)\n",
    "df"
   ]
  },
  {
   "cell_type": "markdown",
   "metadata": {},
   "source": [
    "## Plot centrality transitions"
   ]
  },
  {
   "cell_type": "code",
   "execution_count": null,
   "metadata": {},
   "outputs": [],
   "source": [
    "from featgraph import plots\n",
    "import seaborn as sns\n",
    "\n",
    "sns.set()\n",
    "plots.plot_centrality_transitions(\n",
    "  df, \"Harmonic Centrality\",\n",
    "  norm=\"nnodes\",\n",
    "  # logy=True,\n",
    "  graph_names=(\n",
    "    \"spotify-2018\",\n",
    "    \"sgc\",\n",
    "  ),\n",
    "  cmap={\n",
    "    \"celebrities\":       \"C0\",\n",
    "    \"community leaders\": \"C1\",\n",
    "    \"masses\":            \"C2\",\n",
    "    \"hip-hop\":           \"C0\",\n",
    "    \"classical\":         \"C1\",\n",
    "    \"rock\":              \"C2\",\n",
    "  },\n",
    ")"
   ]
  },
  {
   "cell_type": "markdown",
   "metadata": {},
   "source": [
    "Switch point"
   ]
  },
  {
   "cell_type": "code",
   "execution_count": null,
   "metadata": {},
   "outputs": [],
   "source": [
    "centrality = \"Harmonic Centrality\"\n",
    "\n",
    "graphs = (\n",
    "  (\"spotify-2018\", (\"classical\", \"hip-hop\")),\n",
    "  (\"sgc\", (\"community leaders\", \"celebrities\")),\n",
    ")\n",
    "for g, ks in graphs:\n",
    "  th = featgraph.misc.switch_point(df, *ks, graph=g, centrality=centrality)\n",
    "  print(f\"{g:<16}: '{ks[0]}' and '{ks[1]}' nodes switch '{centrality.lower()}' at threshold = {th:.0f}\")"
   ]
  },
  {
   "cell_type": "markdown",
   "metadata": {},
   "source": [
    "## Correlation between centrality transitions and SCC"
   ]
  },
  {
   "cell_type": "markdown",
   "metadata": {},
   "source": [
    "Plot correlations"
   ]
  },
  {
   "cell_type": "code",
   "execution_count": null,
   "metadata": {},
   "outputs": [],
   "source": [
    "from matplotlib import pyplot as plt\n",
    "from scipy import stats\n",
    "import pandas as pd\n",
    "import numpy as np\n",
    "import itertools\n",
    "\n",
    "df_cc, _, axs = plots.centrality_correlations(\n",
    "  pd.concat(tuple(plots.preprocessed_additions(df))),\n",
    "  \"Strongly Connected Component Size\" + plots.div_suffix,\n",
    "  [\n",
    "    \"Indegree\" + plots.div_suffix,\n",
    "    \"Pagerank\" + plots.mul_suffix,\n",
    "    \"Harmonic Centrality\" + plots.div_suffix,\n",
    "    \"Lin Centrality\" + plots.div_suffix,\n",
    "    \"Closeness Centrality\" + plots.div_suffix,\n",
    "  ],\n",
    "  cc_fn=stats.kendalltau,\n",
    "  p_thresholds=(.001,),\n",
    "  plt_kws=dict(edgecolor=\"none\", alpha=0.5),\n",
    "  subplot_kws=dict(sharey=\"row\"),\n",
    "  palette={\n",
    "    \"celebrities\": \"C0\",\n",
    "    \"masses\": \"C1\",\n",
    "    \"community leaders\": \"C2\",\n",
    "    \"hip-hop\": \"C0\",\n",
    "    \"rock\": \"C1\",\n",
    "    \"classical\": \"C2\",\n",
    "  }\n",
    ")\n",
    "for i, ax in enumerate(itertools.chain.from_iterable(axs)):\n",
    "  if i % 5 == 3:\n",
    "    sns.move_legend(ax, \"upper right\")\n",
    "  else:\n",
    "    sns.move_legend(ax, \"lower right\")\n",
    "plt.gcf().set_size_inches(np.array([1, 9 / 21]) * 21)"
   ]
  },
  {
   "cell_type": "markdown",
   "metadata": {},
   "source": [
    "Display tests dataframe"
   ]
  },
  {
   "cell_type": "code",
   "execution_count": null,
   "metadata": {},
   "outputs": [],
   "source": [
    "df_cc.sort_values(\"p-value\").reset_index()"
   ]
  },
  {
   "cell_type": "code",
   "execution_count": null,
   "metadata": {},
   "outputs": [],
   "source": [
    "switch_point(df, \"classical\", \"hip-hop\", graph=graph.basename, centrality=\"Indegree\"), switch_point(df, \"community leaders\", \"celebrities\", graph=\"sgc\", centrality=\"Indegree\")"
   ]
  },
  {
   "cell_type": "code",
   "execution_count": null,
   "metadata": {},
   "outputs": [],
   "source": [
    "def switch_point(df: pd.DataFrame, k1, k2, x: str = \"threshold\", y: str = \"mean\", class_key: str = \"type_value\", **kwargs):\n",
    "  \"\"\"Compute the switching point for a value between two groups\n",
    "\n",
    "  Args:\n",
    "    df (DataFrame): The dataframe of values\n",
    "    k1 (str): The class value for the first group\n",
    "    k2 (str): The class value for the second group\n",
    "    x (str): Column name for independent variable\n",
    "    y (str): Column name for dependent variable\n",
    "    class_key (str): Column name for classes\n",
    "    \"\"\"\n",
    "  dfs = pd.merge(\n",
    "    *tuple(featgraph.misc.dataframe_filter(df, **kwargs, **{class_key: k})[[x, y]].rename(columns={y: k}) for k in (k1, k2)),\n",
    "    how=\"inner\",\n",
    "    on=\"threshold\",\n",
    "  )\n",
    "  x_0 = dfs[x].min()\n",
    "  diffs = dfs[k1] - dfs[k2]\n",
    "  sign_0 = 1 if diffs[dfs[x] == x_0].min() >= 0 else -1\n",
    "  return dfs[diffs * sign_0 < 0][x].min()\n",
    "switch_point(df, \"classical\", \"hip-hop\", graph=graph.basename, centrality=\"Indegree\"), switch_point(df, \"community leaders\", \"celebrities\", graph=\"sgc\", centrality=\"Indegree\")"
   ]
  }
 ],
 "metadata": {
  "kernelspec": {
   "display_name": "Python 3 (ipykernel)",
   "language": "python",
   "name": "python3"
  },
  "language_info": {
   "codemirror_mode": {
    "name": "ipython",
    "version": 3
   },
   "file_extension": ".py",
   "mimetype": "text/x-python",
   "name": "python",
   "nbconvert_exporter": "python",
   "pygments_lexer": "ipython3",
   "version": "3.8.12"
  }
 },
 "nbformat": 4,
 "nbformat_minor": 4
}
