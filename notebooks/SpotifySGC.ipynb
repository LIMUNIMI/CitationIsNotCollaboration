{
 "cells": [
  {
   "cell_type": "markdown",
   "metadata": {},
   "source": [
    "# Transitions in Centralities\n",
    "Comparison of centralities transitions in the Spotify graph and in the SGC model"
   ]
  },
  {
   "cell_type": "markdown",
   "metadata": {},
   "source": [
    "## Configure"
   ]
  },
  {
   "cell_type": "markdown",
   "metadata": {},
   "source": [
    "Set the dataset base path"
   ]
  },
  {
   "cell_type": "code",
   "execution_count": null,
   "metadata": {},
   "outputs": [],
   "source": [
    "spotify_basename = \"graphs/spotify-2018\""
   ]
  },
  {
   "cell_type": "markdown",
   "metadata": {},
   "source": [
    "Set the random graph base path"
   ]
  },
  {
   "cell_type": "code",
   "execution_count": null,
   "metadata": {},
   "outputs": [],
   "source": [
    "sgc_basename = \"graphs/sgc\""
   ]
  },
  {
   "cell_type": "markdown",
   "metadata": {},
   "source": [
    "Set the centralities CSV path"
   ]
  },
  {
   "cell_type": "code",
   "execution_count": null,
   "metadata": {},
   "outputs": [],
   "source": [
    "csv_path = \"./centralities_comparison.csv\""
   ]
  },
  {
   "cell_type": "markdown",
   "metadata": {},
   "source": [
    "Set `jvm_path` to your java virtual machine full path"
   ]
  },
  {
   "cell_type": "code",
   "execution_count": null,
   "metadata": {},
   "outputs": [],
   "source": [
    "jvm_path = None"
   ]
  },
  {
   "cell_type": "markdown",
   "metadata": {},
   "source": [
    "Set up logging"
   ]
  },
  {
   "cell_type": "code",
   "execution_count": null,
   "metadata": {},
   "outputs": [],
   "source": [
    "import logging\n",
    "logging.basicConfig(\n",
    "  level=logging.INFO,\n",
    "  format='%(asctime)s %(name)-12s %(levelname)-8s: %(message)s',\n",
    "  datefmt='%Y-%m-%d %H:%M:%S',\n",
    ")"
   ]
  },
  {
   "cell_type": "markdown",
   "metadata": {},
   "source": [
    "Start jvm"
   ]
  },
  {
   "cell_type": "code",
   "execution_count": null,
   "metadata": {},
   "outputs": [],
   "source": [
    "from featgraph.jwebgraph import start_jvm\n",
    "start_jvm(jvm_path=jvm_path)"
   ]
  },
  {
   "cell_type": "markdown",
   "metadata": {},
   "source": [
    "## Load the Spotify graph"
   ]
  },
  {
   "cell_type": "code",
   "execution_count": null,
   "metadata": {},
   "outputs": [],
   "source": [
    "import featgraph.jwebgraph.utils\n",
    "from featgraph import jwebgraph\n",
    "import os\n",
    "\n",
    "graph = jwebgraph.utils.BVGraph(spotify_basename)\n",
    "print(graph)\n",
    "\n",
    "for r in (\n",
    "  \"graph\", \"properties\", \"ids.txt\"\n",
    "):\n",
    "  if not os.path.isfile(graph.path(r)):\n",
    "    raise FileNotFoundError(graph.path(r))"
   ]
  },
  {
   "cell_type": "markdown",
   "metadata": {},
   "source": [
    "## Sample a graph from the SGC model"
   ]
  },
  {
   "cell_type": "code",
   "execution_count": null,
   "metadata": {},
   "outputs": [],
   "source": [
    "from featgraph import sgc, pathutils\n",
    "\n",
    "seed = 42\n",
    "sgc_model = sgc.SGCModel()\n",
    "sgc_graph = jwebgraph.utils.BVGraph(sgc_basename)\n",
    "if pathutils.notisglob(sgc_graph.path(\"*\")):\n",
    "  logging.info(\"Sampling SGC graph\")\n",
    "  sgc_nxgraph = sgc_model(seed=seed)\n",
    "  logging.info(\"Converting nxgraph to BVGraph\")\n",
    "  sgc.to_bv(sgc_nxgraph, sgc_basename)"
   ]
  },
  {
   "cell_type": "markdown",
   "metadata": {},
   "source": [
    "## Generating subgraphs for different popularity thresholds"
   ]
  },
  {
   "cell_type": "code",
   "execution_count": null,
   "metadata": {
    "scrolled": true
   },
   "outputs": [],
   "source": [
    "from tqdm.notebook import tqdm\n",
    "import numpy as np\n",
    "\n",
    "def thresh_graphpath(t: float, g) -> str:\n",
    "  return g.path(f\"popularity-{t:02.0f}\")\n",
    "\n",
    "def thresh_graphmap(t: float, g, mv=-20):\n",
    "  return map(lambda p: p > t, g.popularity(mv))\n",
    "\n",
    "thresh = np.arange(0, 81, 5)\n",
    "\n",
    "for t in tqdm(thresh):\n",
    "  logging.info(\"Thresholding graph at popularity > %f\", t)\n",
    "  for g in (graph, sgc_graph):\n",
    "    path_gt = thresh_graphpath(t, g)\n",
    "    if pathutils.notisglob(path_gt + \".*\"):\n",
    "      logging.info(\"Computing: %s\", path_gt)\n",
    "      g.transform_map(path_gt, thresh_graphmap(t, g))"
   ]
  },
  {
   "cell_type": "markdown",
   "metadata": {},
   "source": [
    "### Compute centralities"
   ]
  },
  {
   "cell_type": "code",
   "execution_count": null,
   "metadata": {},
   "outputs": [],
   "source": [
    "for t in tqdm(thresh):\n",
    "  for g in (graph, sgc_graph):\n",
    "    subg = jwebgraph.utils.BVGraph(thresh_graphpath(t, g))\n",
    "    subg.compute_transpose()\n",
    "    subg.compute_degrees()\n",
    "    subg.compute_harmonicc()\n",
    "    subg.compute_pagerank()\n",
    "    subg.compute_closenessc()"
   ]
  },
  {
   "cell_type": "markdown",
   "metadata": {},
   "source": [
    "### Build centralities dataframe"
   ]
  },
  {
   "cell_type": "code",
   "execution_count": null,
   "metadata": {},
   "outputs": [],
   "source": [
    "import pandas as pd\n",
    "import itertools\n",
    "\n",
    "basegraphs = {\n",
    "  \"spotify\": (\n",
    "    graph, \"supergenre\",\n",
    "    (\"classical\", \"hip-hop\", \"rock\"),\n",
    "    lambda g: (lambda x: g in x),\n",
    "  ),\n",
    "  \"sgc\": (\n",
    "    sgc_graph, \"type_sgc\",\n",
    "    (\"celebrities\", \"community leaders\", \"masses\"),\n",
    "    lambda g: (lambda x: x == g),\n",
    "  ),\n",
    "}\n",
    "centralities = (\"indegrees\", \"harmonicc\", \"pagerank\", \"closenessc\")\n",
    "\n",
    "data = {\n",
    "  k: [] for k in (\n",
    "    \"graph\",\n",
    "    \"class_type\",\n",
    "    \"class_value\",\n",
    "    \"threshold\",\n",
    "    \"centrality\",\n",
    "    \"mean\",\n",
    "    \"std\",\n",
    "    \"quartile-1\",\n",
    "    \"median\",\n",
    "    \"quartile-3\",\n",
    "    \"nnodes\",\n",
    "    \"narcs\",\n",
    "  )\n",
    "}\n",
    "\n",
    "if pathutils.notisfile(csv_path):\n",
    "  for (k, (baseg, gen_k, gen_vals, check_fn)), t, c in tqdm(\n",
    "    list(itertools.product(\n",
    "        basegraphs.items(), thresh, centralities\n",
    "      )\n",
    "    )\n",
    "  ):\n",
    "    for gen in gen_vals:\n",
    "      data[\"graph\"].append(k)\n",
    "      data[\"class_type\"].append(gen_k)\n",
    "      data[\"class_value\"].append(gen)\n",
    "      data[\"threshold\"].append(t)\n",
    "      data[\"centrality\"].append(c)\n",
    "\n",
    "      g = jwebgraph.utils.BVGraph(thresh_graphpath(t, baseg))\n",
    "      data[\"nnodes\"].append(g.numNodes())\n",
    "      data[\"narcs\"].append(g.numNodes())\n",
    "      \n",
    "      values = np.array(list(itertools.compress(\n",
    "        getattr(g, c)(),\n",
    "        map(check_fn(gen), getattr(g, gen_k)())\n",
    "      )))\n",
    "      data[\"mean\"].append(np.mean(values))\n",
    "      data[\"std\"].append(np.std(values))\n",
    "      for qk, qv in zip(\n",
    "        (\n",
    "          \"quartile-1\",\n",
    "          \"median\",\n",
    "          \"quartile-3\",\n",
    "        ),\n",
    "        np.quantile(\n",
    "          values,\n",
    "          (0.25, 0.5 , 0.75)\n",
    "        )\n",
    "      ):\n",
    "        data[qk].append(qv)\n",
    "      del values\n",
    "\n",
    "  df = pd.DataFrame(data=data)\n",
    "  df.to_csv(csv_path)\n",
    "else:\n",
    "  df = pd.read_csv(csv_path, index_col=0)\n",
    "df[\"nnodes_inv\"] = 1 / df[\"nnodes\"]\n",
    "df[\"narcs_inv\"] = 1 / df[\"narcs\"]\n",
    "df"
   ]
  },
  {
   "cell_type": "markdown",
   "metadata": {},
   "source": [
    "## Plot centrality transitions"
   ]
  },
  {
   "cell_type": "code",
   "execution_count": null,
   "metadata": {},
   "outputs": [],
   "source": [
    "# prepare plots\n",
    "from matplotlib import pyplot as plt\n",
    "import matplotlib as mpl\n",
    "_default_cols = mpl.rcParams[\"axes.prop_cycle\"].by_key()[\"color\"]\n",
    "\n",
    "_gen_cols = {\n",
    "  \"classical\": _default_cols[0],\n",
    "  \"hip-hop\": _default_cols[1],\n",
    "  \"rock\": _default_cols[2],\n",
    "  \"community leaders\": _default_cols[0],\n",
    "  \"celebrities\": _default_cols[1],\n",
    "  \"masses\": _default_cols[2],\n",
    "}\n",
    "\n",
    "def plot_centrality_comparison(\n",
    "  centrality_name: str,\n",
    "  norm = None,\n",
    "  logy: bool = False,\n",
    "  save: bool = False,\n",
    "  aspect: float = 8/9,\n",
    "  width: float = 12,\n",
    "  figext: str = \"svg\",\n",
    "  gen_cols = _gen_cols,\n",
    "  std_scale: float = 0.7,\n",
    "  fill_alpha: float = 0.1,\n",
    "  median: bool = True,\n",
    "):\n",
    "  fig, ax = plt.subplots(2, 1, sharex=True)\n",
    "  for a, graph_name in zip(ax, (\"spotify\", \"sgc\")):\n",
    "    dff = df[\n",
    "      (df[\"graph\"] == graph_name) & (df[\"centrality\"] == centrality_name)\n",
    "    ]\n",
    "    for k in set(dff[\"class_value\"]):\n",
    "      dffk = dff[dff[\"class_value\"] == k]\n",
    "      kx = dffk[\"threshold\"].to_numpy()\n",
    "      idx = np.argsort(kx)\n",
    "      kx = kx[idx]\n",
    "      \n",
    "      if median:\n",
    "        kq1 = dffk[\"quartile-1\"].to_numpy()[idx]\n",
    "        kq2 = dffk[\"median\"].to_numpy()[idx]\n",
    "        kq3 = dffk[\"quartile-3\"].to_numpy()[idx]\n",
    "      else:\n",
    "        kq2 = dffk[\"mean\"].to_numpy()[idx]\n",
    "        ks = dffk[\"mean\"].to_numpy()[idx] * std_scale\n",
    "        kq1 = kq2 - std_scale\n",
    "        kq3 = kq2 + std_scale\n",
    "      if norm:\n",
    "        kn = dffk[norm].to_numpy()[idx]\n",
    "        kq1 /= kn\n",
    "        kq2 /= kn\n",
    "        kq3 /= kn\n",
    "      a.plot(\n",
    "        kx, kq2,\n",
    "        label=k,\n",
    "        c=gen_cols.get(k, \"k\")\n",
    "      )\n",
    "      a.fill_between(\n",
    "        kx,\n",
    "        kq1,\n",
    "        kq3,\n",
    "        facecolor=gen_cols.get(k, \"k\"),\n",
    "        alpha=fill_alpha,\n",
    "      )\n",
    "    if logy:\n",
    "      a.set_yscale(\"log\")\n",
    "    a.legend()\n",
    "    a.set_title(graph_name)\n",
    "    a.set_ylabel(centrality_name)\n",
    "  a.set_xlabel(\"popularity threshold\")\n",
    "  fig.set_size_inches(width * np.array([aspect, 1]))\n",
    "  if save:\n",
    "    plt.savefig(\n",
    "      f\"compare-{centrality_name}\" + \\\n",
    "      (f\"-norm_{norm}\" if norm else \"\") + \\\n",
    "      (f\"-median\" if logy else \"\") + \\\n",
    "      (f\"-semilogy\" if logy else \"\") + \\\n",
    "      f\".{figext}\",\n",
    "      bbox_inches=\"tight\",\n",
    "    )"
   ]
  },
  {
   "cell_type": "code",
   "execution_count": null,
   "metadata": {},
   "outputs": [],
   "source": [
    "import seaborn as sns\n",
    "\n",
    "sns.set()\n",
    "plot_centrality_comparison(\n",
    "  centrality_name=\"pagerank\",\n",
    "  norm=\"nnodes_inv\",\n",
    "  logy=True,\n",
    ")"
   ]
  },
  {
   "cell_type": "markdown",
   "metadata": {},
   "source": [
    "## Plot boxplots"
   ]
  },
  {
   "cell_type": "code",
   "execution_count": null,
   "metadata": {},
   "outputs": [],
   "source": [
    "# prepare plots\n",
    "from IPython.display import SVG, display\n",
    "import pygal\n",
    "\n",
    "def plot_centrality_boxes(\n",
    "  c: str,\n",
    "  t: float,\n",
    "  basegraph: str = \"spotify\",\n",
    "  savefig: bool = False,\n",
    "  figext: str = \"svg\"\n",
    "):\n",
    "  box_plot = pygal.Box()\n",
    "  box_plot.title = f\"{c}\\npopularity > {t:.0f}\\n{basegraph}\"\n",
    "  \n",
    "  baseg, gen_k, gen_vals, check_fn = basegraphs[basegraph]\n",
    "  g = jwebgraph.utils.BVGraph(thresh_graphpath(t, baseg))\n",
    "  for gen in gen_vals:\n",
    "    box_plot.add(gen, np.array(list(itertools.compress(\n",
    "      getattr(g, c)(),\n",
    "      map(check_fn(gen), getattr(g, gen_k)())\n",
    "    ))))\n",
    "  \n",
    "  display(SVG(box_plot.render()))\n",
    "  if savefig:\n",
    "    box_plot.render_to_file(\n",
    "      f\"boxplot-{basegraph}-{c}.{figext}\"\n",
    "    )"
   ]
  },
  {
   "cell_type": "code",
   "execution_count": null,
   "metadata": {},
   "outputs": [],
   "source": [
    "plot_centrality_boxes(\n",
    "  \"harmonicc\", 50,\n",
    "  \"spotify\",\n",
    ")"
   ]
  }
 ],
 "metadata": {
  "kernelspec": {
   "display_name": "Python 3 (ipykernel)",
   "language": "python",
   "name": "python3"
  },
  "language_info": {
   "codemirror_mode": {
    "name": "ipython",
    "version": 3
   },
   "file_extension": ".py",
   "mimetype": "text/x-python",
   "name": "python",
   "nbconvert_exporter": "python",
   "pygments_lexer": "ipython3",
   "version": "3.8.11"
  }
 },
 "nbformat": 4,
 "nbformat_minor": 4
}
