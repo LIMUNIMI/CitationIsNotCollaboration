{
 "cells": [
  {
   "cell_type": "markdown",
   "metadata": {},
   "source": [
    "# Transitions in Centralities\n",
    "Comparison of centralities transitions in the Spotify graph and in the SGC model"
   ]
  },
  {
   "cell_type": "markdown",
   "metadata": {},
   "source": [
    "## Configure"
   ]
  },
  {
   "cell_type": "markdown",
   "metadata": {},
   "source": [
    "Set the dataset base path"
   ]
  },
  {
   "cell_type": "code",
   "execution_count": null,
   "metadata": {},
   "outputs": [],
   "source": [
    "spotify_basename = \"graphs/spotify-2018\""
   ]
  },
  {
   "cell_type": "markdown",
   "metadata": {},
   "source": [
    "Set the random graph base path"
   ]
  },
  {
   "cell_type": "code",
   "execution_count": null,
   "metadata": {},
   "outputs": [],
   "source": [
    "sgc_basename = \"graphs/sgc\""
   ]
  },
  {
   "cell_type": "markdown",
   "metadata": {},
   "source": [
    "Set the centralities CSV path"
   ]
  },
  {
   "cell_type": "code",
   "execution_count": null,
   "metadata": {},
   "outputs": [],
   "source": [
    "csv_path = \"./centralities_comparison.csv\""
   ]
  },
  {
   "cell_type": "markdown",
   "metadata": {},
   "source": [
    "Set `jvm_path` to your java virtual machine full path"
   ]
  },
  {
   "cell_type": "code",
   "execution_count": null,
   "metadata": {},
   "outputs": [],
   "source": [
    "jvm_path = None"
   ]
  },
  {
   "cell_type": "markdown",
   "metadata": {},
   "source": [
    "Set up logging"
   ]
  },
  {
   "cell_type": "code",
   "execution_count": null,
   "metadata": {},
   "outputs": [],
   "source": [
    "import logging\n",
    "logging.basicConfig(\n",
    "  level=logging.INFO,\n",
    "  format='%(asctime)s %(name)-12s %(levelname)-8s: %(message)s',\n",
    "  datefmt='%Y-%m-%d %H:%M:%S',\n",
    ")"
   ]
  },
  {
   "cell_type": "markdown",
   "metadata": {},
   "source": [
    "Start jvm"
   ]
  },
  {
   "cell_type": "code",
   "execution_count": null,
   "metadata": {},
   "outputs": [],
   "source": [
    "from featgraph.jwebgraph import start_jvm\n",
    "start_jvm(jvm_path=jvm_path)"
   ]
  },
  {
   "cell_type": "markdown",
   "metadata": {},
   "source": [
    "## Load the Spotify graph"
   ]
  },
  {
   "cell_type": "code",
   "execution_count": null,
   "metadata": {},
   "outputs": [],
   "source": [
    "import featgraph.jwebgraph.utils\n",
    "from featgraph import jwebgraph\n",
    "import os\n",
    "\n",
    "graph = jwebgraph.utils.BVGraph(spotify_basename)\n",
    "print(graph)\n",
    "\n",
    "for r in (\n",
    "  \"graph\", \"properties\", \"ids.txt\"\n",
    "):\n",
    "  if not os.path.isfile(graph.path(r)):\n",
    "    raise FileNotFoundError(graph.path(r))"
   ]
  },
  {
   "cell_type": "markdown",
   "metadata": {},
   "source": [
    "## Sample a graph from the SGC model"
   ]
  },
  {
   "cell_type": "code",
   "execution_count": null,
   "metadata": {},
   "outputs": [],
   "source": [
    "from featgraph import sgc, pathutils\n",
    "\n",
    "seed = 42\n",
    "sgc_model = sgc.SGCModel()\n",
    "sgc_graph = jwebgraph.utils.BVGraph(sgc_basename)\n",
    "if pathutils.notisglob(sgc_graph.path(\"*\"), msg=\"Found: %.40s... Skipping\"):\n",
    "  logging.info(\"Sampling SGC graph\")\n",
    "  sgc_nxgraph = sgc_model(seed=seed)\n",
    "  logging.info(\"Converting nxgraph to BVGraph\")\n",
    "  sgc.to_bv(sgc_nxgraph, sgc_basename)"
   ]
  },
  {
   "cell_type": "markdown",
   "metadata": {},
   "source": [
    "## Compute subgraphs for different thresholds\n",
    "Define data structure"
   ]
  },
  {
   "cell_type": "code",
   "execution_count": null,
   "metadata": {},
   "outputs": [],
   "source": [
    "from featgraph.sgc import ThresholdComparison\n",
    "\n",
    "tc = ThresholdComparison(\n",
    "  ThresholdComparison.sgc_graph(sgc_graph),\n",
    "  ThresholdComparison.spotify_graph(graph),\n",
    ")\n",
    "\n",
    "print(f\"Thresholding based on {tc.attribute} at thresholds:\\n  {', '.join(map(str, tc.thresholds))}\")"
   ]
  },
  {
   "cell_type": "markdown",
   "metadata": {},
   "source": [
    "Perform thresholing"
   ]
  },
  {
   "cell_type": "code",
   "execution_count": null,
   "metadata": {},
   "outputs": [],
   "source": [
    "from tqdm.notebook import tqdm\n",
    "\n",
    "tc.threshold_graphs(tqdm=tqdm)"
   ]
  },
  {
   "cell_type": "markdown",
   "metadata": {},
   "source": [
    "Compute centralities"
   ]
  },
  {
   "cell_type": "code",
   "execution_count": null,
   "metadata": {},
   "outputs": [],
   "source": [
    "tc.compute_centralities(tqdm=tqdm)"
   ]
  },
  {
   "cell_type": "markdown",
   "metadata": {},
   "source": [
    "Build dataframe"
   ]
  },
  {
   "cell_type": "code",
   "execution_count": null,
   "metadata": {},
   "outputs": [],
   "source": [
    "df = tc.dataframe(\"centralities_transitions.csv\", tqdm=tqdm)\n",
    "df"
   ]
  },
  {
   "cell_type": "markdown",
   "metadata": {},
   "source": [
    "## Plot centrality transitions"
   ]
  },
  {
   "cell_type": "code",
   "execution_count": null,
   "metadata": {},
   "outputs": [],
   "source": [
    "from featgraph import plots\n",
    "import seaborn as sns\n",
    "\n",
    "sns.set()\n",
    "plots.plot_centrality_transitions(\n",
    "  df, \"Harmonic Centrality\",\n",
    "  norm=\"narcs\",\n",
    "  # logy=True,\n",
    "  graph_names=(\n",
    "    \"spotify-2018\",\n",
    "    \"sgc\",\n",
    "  ),\n",
    "  cmap={\n",
    "    \"celebrities\":       \"C0\",\n",
    "    \"community leaders\": \"C1\",\n",
    "    \"masses\":            \"C2\",\n",
    "    \"hip-hop\":           \"C0\",\n",
    "    \"classical\":         \"C1\",\n",
    "    \"rock\":              \"C2\",\n",
    "  },\n",
    ")"
   ]
  },
  {
   "cell_type": "markdown",
   "metadata": {},
   "source": [
    "## Plot boxplots"
   ]
  },
  {
   "cell_type": "code",
   "execution_count": null,
   "metadata": {},
   "outputs": [],
   "source": [
    "plots.plot_centrality_boxes(\n",
    "  tc,\n",
    "  centrality=\"Harmonic Centrality\",\n",
    "  th=50,\n",
    "  graph_name=\"spotify-2018\",\n",
    ")"
   ]
  }
 ],
 "metadata": {
  "kernelspec": {
   "display_name": "Python 3 (ipykernel)",
   "language": "python",
   "name": "python3"
  },
  "language_info": {
   "codemirror_mode": {
    "name": "ipython",
    "version": 3
   },
   "file_extension": ".py",
   "mimetype": "text/x-python",
   "name": "python",
   "nbconvert_exporter": "python",
   "pygments_lexer": "ipython3",
   "version": "3.8.12"
  }
 },
 "nbformat": 4,
 "nbformat_minor": 4
}
