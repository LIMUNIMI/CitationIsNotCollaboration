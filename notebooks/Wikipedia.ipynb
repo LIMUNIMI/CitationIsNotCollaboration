{
 "cells": [
  {
   "cell_type": "markdown",
   "id": "446a6583",
   "metadata": {},
   "source": [
    "# Configure\n",
    "Set `jvm_path` to your java virtual machine full path"
   ]
  },
  {
   "cell_type": "code",
   "execution_count": null,
   "id": "7052a749",
   "metadata": {},
   "outputs": [],
   "source": [
    "jvm_path = None"
   ]
  },
  {
   "cell_type": "markdown",
   "id": "20cd2796",
   "metadata": {},
   "source": [
    "Set up logging"
   ]
  },
  {
   "cell_type": "code",
   "execution_count": null,
   "id": "59d036bc",
   "metadata": {},
   "outputs": [],
   "source": [
    "import logging\n",
    "logging.basicConfig(\n",
    "  level=logging.INFO,\n",
    "  format='%(asctime)s %(name)-12s %(levelname)-8s: %(message)s',\n",
    "  datefmt='%Y-%m-%d %H:%M:%S',\n",
    ")"
   ]
  },
  {
   "cell_type": "markdown",
   "id": "4fd49688",
   "metadata": {},
   "source": [
    "Install package and dependencies"
   ]
  },
  {
   "cell_type": "code",
   "execution_count": null,
   "id": "c0a3b333",
   "metadata": {},
   "outputs": [],
   "source": [
    "import sys\n",
    "import os\n",
    "\n",
    "do_install = False\n",
    "package_root = \"..\"\n",
    "\n",
    "if do_install:\n",
    "  cmd = \"{} -m pip install -U {} --use-feature=in-tree-build\".format(\n",
    "    sys.executable,\n",
    "    package_root,\n",
    "  )\n",
    "  logging.info(cmd)\n",
    "  os.system(cmd)\n",
    "  cmd = \"{} -m pip install -Ur {}\".format(\n",
    "    sys.executable,\n",
    "    os.path.join(package_root, \"notebooks-requirements.txt\"),\n",
    "  )\n",
    "  logging.info(cmd)\n",
    "  os.system(cmd)"
   ]
  },
  {
   "cell_type": "markdown",
   "id": "b0096d6e",
   "metadata": {},
   "source": [
    "Start jvm"
   ]
  },
  {
   "cell_type": "code",
   "execution_count": null,
   "id": "55ed7aaa",
   "metadata": {},
   "outputs": [],
   "source": [
    "from featgraph.jwebgraph import start_jvm\n",
    "start_jvm(jvm_path=jvm_path)"
   ]
  },
  {
   "cell_type": "markdown",
   "id": "08b47df0",
   "metadata": {},
   "source": [
    "Import the java library"
   ]
  },
  {
   "cell_type": "code",
   "execution_count": null,
   "id": "01aa7f77",
   "metadata": {},
   "outputs": [],
   "source": [
    "from it.unimi.dsi import webgraph"
   ]
  },
  {
   "cell_type": "markdown",
   "id": "d3208ea4",
   "metadata": {},
   "source": [
    "# Working on Wikipedia\n",
    "## Download graph"
   ]
  },
  {
   "cell_type": "code",
   "execution_count": null,
   "id": "8b8628e7",
   "metadata": {},
   "outputs": [],
   "source": [
    "from featgraph import jwebgraph\n",
    "\n",
    "dest_dir = \"graphs\"\n",
    "os.makedirs(dest_dir, exist_ok=True)\n",
    "\n",
    "wiki_basename = \"enwiki-2013\"\n",
    "urls = {\n",
    "  \"{}.graph\".format(wiki_basename): \"http://data.law.di.unimi.it/webdata/enwiki-2013/enwiki-2013.graph\",\n",
    "  \"{}.properties\".format(wiki_basename): \"http://data.law.di.unimi.it/webdata/enwiki-2013/enwiki-2013.properties\",\n",
    "}\n",
    "\n",
    "jwebgraph.download_dependencies(\n",
    "  deps=urls,\n",
    "  root=dest_dir,\n",
    ")\n",
    "\n",
    "wiki_basepath = os.path.join(dest_dir, wiki_basename)"
   ]
  },
  {
   "cell_type": "markdown",
   "id": "249d1a6e",
   "metadata": {},
   "source": [
    "Reconstruct offsets"
   ]
  },
  {
   "cell_type": "code",
   "execution_count": null,
   "id": "d1a07ae3",
   "metadata": {},
   "outputs": [],
   "source": [
    "offsets_path = \".\".join((wiki_basepath, \"offsets\"))\n",
    "if not os.path.isfile(offsets_path):\n",
    "  webgraph.BVGraph.main([\"-O\", wiki_basepath])\n",
    "else:\n",
    "  logging.info(\"Found '%s'. Skipping\", offsets_path)"
   ]
  },
  {
   "cell_type": "markdown",
   "id": "9ff590f9",
   "metadata": {},
   "source": [
    "Load and check number of nodes and arcs"
   ]
  },
  {
   "cell_type": "code",
   "execution_count": null,
   "id": "ee7a53fc",
   "metadata": {},
   "outputs": [],
   "source": [
    "graph = webgraph.BVGraph.load(wiki_basepath)\n",
    "\n",
    "def pretty_print_int(n: int, k: int = 3) -> str:\n",
    "  def _ppi_it(s: str):\n",
    "    i = 0\n",
    "    for c in reversed(s):\n",
    "      if i == k:\n",
    "        i = 0\n",
    "        yield \" \"\n",
    "      yield c\n",
    "      i += 1\n",
    "  return \"\".join(reversed(list(_ppi_it(str(n)))))\n",
    "\n",
    "nnodes = graph.numNodes()\n",
    "narcs = graph.numArcs()\n",
    "print(\"Graph '{}' has\\n{:>13} nodes\\n{:>13} arcs\".format(\n",
    "  wiki_basename,\n",
    "  pretty_print_int(nnodes),\n",
    "  pretty_print_int(narcs),\n",
    "))\n",
    "\n",
    "# check correctness\n",
    "expected_nnodes = 4206785\n",
    "expected_narcs = 101355853\n",
    "\n",
    "assert(nnodes == expected_nnodes)\n",
    "assert(narcs == expected_narcs)"
   ]
  },
  {
   "cell_type": "markdown",
   "id": "09f38fcd",
   "metadata": {},
   "source": [
    "## Degree correlation\n",
    "Compute degree files"
   ]
  },
  {
   "cell_type": "code",
   "execution_count": null,
   "id": "2fddcf76",
   "metadata": {},
   "outputs": [],
   "source": [
    "import glob\n",
    "\n",
    "stats_basename = \".\".join((wiki_basepath, \"stats\"))\n",
    "\n",
    "stats_files = glob.glob(stats_basename + \"*\")\n",
    "if len(stats_files):\n",
    "  logging.info(\"Found stats files: %s. Skipping\", stats_files)\n",
    "else:\n",
    "  webgraph.Stats.main([\n",
    "    \"--save-degrees\",\n",
    "    wiki_basepath,\n",
    "    stats_basename,\n",
    "  ])"
   ]
  },
  {
   "cell_type": "markdown",
   "id": "f0f0d53d",
   "metadata": {},
   "source": [
    "Compute Kendall's $\\tau$"
   ]
  },
  {
   "cell_type": "code",
   "execution_count": null,
   "id": "48409b32",
   "metadata": {},
   "outputs": [],
   "source": [
    "from it.unimi.dsi import law\n",
    "import java.lang\n",
    "\n",
    "def get_degrees(s: str, prefix: str = stats_basename):\n",
    "  assert(s in (\"in\", \"out\"))\n",
    "  return law.stat.KendallTau.loadAsDoubles(\n",
    "    \".\".join((prefix, s + \"degrees\")),\n",
    "    java.lang.String, False\n",
    "  )\n",
    "\n",
    "kendall_tau = law.stat.KendallTau.INSTANCE.compute(\n",
    "  get_degrees(\"in\"), get_degrees(\"out\"),\n",
    ")\n",
    "print(\"KendallTau:\", kendall_tau)"
   ]
  },
  {
   "cell_type": "markdown",
   "id": "b175940a",
   "metadata": {},
   "source": [
    "Degree scatterplot"
   ]
  },
  {
   "cell_type": "code",
   "execution_count": null,
   "id": "52859548",
   "metadata": {},
   "outputs": [],
   "source": [
    "from matplotlib import pyplot as plt\n",
    "\n",
    "plt.scatter(\n",
    "  get_degrees(\"out\"),\n",
    "  get_degrees(\"in\"),\n",
    "  marker=\".\", c=\"k\", alpha=2**(-7)\n",
    ")\n",
    "\n",
    "plt.gca().set_yscale(\"log\")\n",
    "plt.gca().set_xscale(\"log\")\n",
    "\n",
    "plt.xlabel(\"out-degree\")\n",
    "plt.ylabel(\"in-degree\")\n",
    "plt.title(r\"\"\"{} node degree log-log scatterplot\n",
    "(Kendall $\\tau$ = {:.5f})\"\"\".format(wiki_basename, kendall_tau));"
   ]
  },
  {
   "cell_type": "markdown",
   "id": "062b794d",
   "metadata": {},
   "source": [
    "## PageRank\n",
    "Compute transpose"
   ]
  },
  {
   "cell_type": "code",
   "execution_count": null,
   "id": "f27c8326",
   "metadata": {},
   "outputs": [],
   "source": [
    "transpose_basepath = \".\".join((wiki_basepath, \"transpose\"))\n",
    "\n",
    "transpose_files = glob.glob(transpose_basepath + \"*\")\n",
    "if len(transpose_files):\n",
    "  logging.info(\"Found transpose files: %s. Skipping\", transpose_files)\n",
    "else:\n",
    "  webgraph.Transform.main([\n",
    "    \"transposeOffline\", wiki_basepath, transpose_basepath\n",
    "  ])"
   ]
  },
  {
   "cell_type": "markdown",
   "id": "1ba5017e",
   "metadata": {},
   "source": [
    "Compute PageRank"
   ]
  },
  {
   "cell_type": "code",
   "execution_count": null,
   "id": "da353db3",
   "metadata": {},
   "outputs": [],
   "source": [
    "rank_basepath = \".\".join((wiki_basepath, \"pagerank\"))\n",
    "rank_filepath = \".\".join((rank_basepath, \"ranks\"))\n",
    "\n",
    "if os.path.isfile(rank_filepath):\n",
    "  logging.info(\"Found pagerank file: %s. Skipping\", rank_filepath)\n",
    "else:\n",
    "  law.rank.PageRankParallelGaussSeidel.main([\n",
    "    transpose_basepath,\n",
    "    rank_basepath,\n",
    "  ])"
   ]
  },
  {
   "cell_type": "markdown",
   "id": "d5c92e3b",
   "metadata": {},
   "source": [
    "Plot pagerank against indegree"
   ]
  },
  {
   "cell_type": "code",
   "execution_count": null,
   "id": "3658ed41",
   "metadata": {},
   "outputs": [],
   "source": [
    "import numpy as np\n",
    "\n",
    "def scatter_data():\n",
    "  return (\n",
    "    get_degrees(\"in\"),\n",
    "    law.stat.KendallTau.loadAsDoubles(\n",
    "      rank_filepath, java.lang.Double, False\n",
    "    )\n",
    "  )\n",
    "\n",
    "plt.scatter(*scatter_data(), c=\"k\", marker=\".\")\n",
    "\n",
    "plt.xlabel(\"indegree\")\n",
    "plt.ylabel(\"pagerank\")\n",
    "pcc = np.corrcoef(*scatter_data())[0, 1]\n",
    "plt.title(r\"\"\"{} pagerank vs in-degree\n",
    "(Pearson CC = {:.3f})\"\"\".format(wiki_basename, pcc));"
   ]
  },
  {
   "cell_type": "markdown",
   "id": "a0629e25",
   "metadata": {},
   "source": [
    "## HyperBall\n",
    "Computer HyperBall on the transposed graph to compute the incoming-distances distribution"
   ]
  },
  {
   "cell_type": "code",
   "execution_count": null,
   "id": "7182c0f1",
   "metadata": {},
   "outputs": [],
   "source": [
    "nf_filepath = \".\".join((wiki_basepath, \"nf.txt\"))\n",
    "hb_nbits = 8\n",
    "\n",
    "if os.path.isfile(nf_filepath):\n",
    "  logging.info(\"Found neighbourhood function file: %s. Skipping\", nf_filepath)\n",
    "else:\n",
    "  webgraph.algo.HyperBall.main([\n",
    "    \"--log2m\", str(hb_nbits), \"--offline\", \"--external\",\n",
    "    \"-n\", nf_filepath,\n",
    "    transpose_basepath, wiki_basepath\n",
    "  ])"
   ]
  },
  {
   "cell_type": "markdown",
   "id": "fb3962ed",
   "metadata": {},
   "source": [
    "Plot the neighbourhood function estimate"
   ]
  },
  {
   "cell_type": "code",
   "execution_count": null,
   "id": "8bd06859",
   "metadata": {},
   "outputs": [],
   "source": [
    "nf = law.stat.KendallTau.loadAsDoubles(\n",
    "  nf_filepath, java.lang.String, False\n",
    ")\n",
    "df = np.diff([0, *nf])\n",
    "\n",
    "ax = plt.subplot(211)\n",
    "plt.plot(nf, c=\"k\")\n",
    "\n",
    "plt.gca().set_xscale(\"log\")\n",
    "plt.gca().set_yscale(\"log\")\n",
    "plt.xlim(plt.xlim()[0], len(nf) - 1)\n",
    "\n",
    "plt.ylabel(\"cumulative frequency (#pairs)\")\n",
    "plt.title(\"neighbourhood function\")\n",
    "\n",
    "plt.subplot(212, sharex=ax)\n",
    "plt.plot(df, c=\"k\")\n",
    "\n",
    "plt.gca().set_xscale(\"log\")\n",
    "plt.gca().set_yscale(\"log\")\n",
    "plt.xlim(plt.xlim()[0], len(nf) - 1)\n",
    "\n",
    "plt.xlabel(\"distance\")\n",
    "plt.ylabel(\"frequency (#pairs)\")\n",
    "plt.title(\"distance function\")\n",
    "\n",
    "plt.gcf().suptitle(\"{}\\nHyperBall ($log_2m$ = {})\".format(\n",
    "  wiki_basename, hb_nbits,\n",
    "))\n",
    "plt.gcf().set_size_inches([\n",
    "  plt.gcf().get_size_inches()[0],\n",
    "  2*plt.gcf().get_size_inches()[1],\n",
    "]);"
   ]
  },
  {
   "cell_type": "markdown",
   "id": "44f8428d",
   "metadata": {},
   "source": [
    "Compute statistics"
   ]
  },
  {
   "cell_type": "code",
   "execution_count": null,
   "id": "30b6ce1d",
   "metadata": {},
   "outputs": [],
   "source": [
    "from scipy import stats\n",
    "\n",
    "df_n = len(df) - 1\n",
    "\n",
    "df_rv = stats.rv_discrete(values=(\n",
    "  np.arange(df_n + 1),\n",
    "  df / nf[-1],\n",
    "))\n",
    "\n",
    "df_mode = np.argmax(df)\n",
    "print(\"\"\"Distance\n",
    "  mode: {} ({:.2f}% of pairs)\n",
    "  mean: {:.3f}\n",
    "  std:  {:.3f}\"\"\".format(\n",
    "    df_mode, 100 * df[df_mode] / nf[-1],\n",
    "    df_rv.mean(),\n",
    "    df_rv.std(),\n",
    "  )\n",
    ")"
   ]
  }
 ],
 "metadata": {
  "kernelspec": {
   "display_name": "Python 3 (ipykernel)",
   "language": "python",
   "name": "python3"
  },
  "language_info": {
   "codemirror_mode": {
    "name": "ipython",
    "version": 3
   },
   "file_extension": ".py",
   "mimetype": "text/x-python",
   "name": "python",
   "nbconvert_exporter": "python",
   "pygments_lexer": "ipython3",
   "version": "3.8.10"
  }
 },
 "nbformat": 4,
 "nbformat_minor": 5
}
