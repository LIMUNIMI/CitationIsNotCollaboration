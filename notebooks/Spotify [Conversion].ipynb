{
 "cells": [
  {
   "cell_type": "markdown",
   "id": "d3208ea4",
   "metadata": {},
   "source": [
    "# Spotify Collaboration Network\n",
    "Dataset conversion: from pickle files to BVGraph and text files\n",
    "## Data Paths"
   ]
  },
  {
   "cell_type": "markdown",
   "id": "810b3e62",
   "metadata": {},
   "source": [
    "Specify the path of the adjacency lists pickle file"
   ]
  },
  {
   "cell_type": "code",
   "execution_count": null,
   "id": "a78cbe95",
   "metadata": {},
   "outputs": [],
   "source": [
    "adjacency_path = \"collaboration_network_edge_list.pickle\""
   ]
  },
  {
   "cell_type": "markdown",
   "id": "1ff15f9f",
   "metadata": {},
   "source": [
    "Specify the path of the metadata pickle file"
   ]
  },
  {
   "cell_type": "code",
   "execution_count": null,
   "id": "fc9d4075",
   "metadata": {},
   "outputs": [],
   "source": [
    "metadata_path = \"artist_data.pickle\""
   ]
  },
  {
   "cell_type": "markdown",
   "id": "87769bb5",
   "metadata": {},
   "source": [
    "Specify the destination base path for the bvgraph file"
   ]
  },
  {
   "cell_type": "code",
   "execution_count": null,
   "id": "f3767c7a",
   "metadata": {},
   "outputs": [],
   "source": [
    "dest_path = \"graphs/spotify-2018\""
   ]
  },
  {
   "cell_type": "markdown",
   "id": "446a6583",
   "metadata": {},
   "source": [
    "## Configure Java\n",
    "Set `jvm_path` to your java virtual machine full path"
   ]
  },
  {
   "cell_type": "code",
   "execution_count": null,
   "id": "7052a749",
   "metadata": {},
   "outputs": [],
   "source": [
    "jvm_path = None"
   ]
  },
  {
   "cell_type": "markdown",
   "id": "20cd2796",
   "metadata": {},
   "source": [
    "Set up logging"
   ]
  },
  {
   "cell_type": "code",
   "execution_count": null,
   "id": "59d036bc",
   "metadata": {},
   "outputs": [],
   "source": [
    "import logging\n",
    "logging.basicConfig(\n",
    "  level=logging.INFO,\n",
    "  format='%(asctime)s %(name)-12s %(levelname)-8s: %(message)s',\n",
    "  datefmt='%Y-%m-%d %H:%M:%S',\n",
    ")"
   ]
  },
  {
   "cell_type": "markdown",
   "id": "b0096d6e",
   "metadata": {},
   "source": [
    "Start jvm"
   ]
  },
  {
   "cell_type": "code",
   "execution_count": null,
   "id": "55ed7aaa",
   "metadata": {},
   "outputs": [],
   "source": [
    "from featgraph.jwebgraph import start_jvm\n",
    "start_jvm(jvm_path=jvm_path)"
   ]
  },
  {
   "cell_type": "markdown",
   "id": "6a9edbdb",
   "metadata": {},
   "source": [
    "## Convert Graph"
   ]
  },
  {
   "cell_type": "markdown",
   "id": "5c810940",
   "metadata": {},
   "source": [
    "Make destination path"
   ]
  },
  {
   "cell_type": "code",
   "execution_count": null,
   "id": "ceb9ff71",
   "metadata": {},
   "outputs": [],
   "source": [
    "from featgraph.pathutils import notisfile, notisglob, derived_paths\n",
    "import os\n",
    "\n",
    "spotipath = derived_paths(dest_path)\n",
    "os.makedirs(os.path.dirname(spotipath()), exist_ok=True)"
   ]
  },
  {
   "cell_type": "markdown",
   "id": "3013fe0e",
   "metadata": {},
   "source": [
    "Make ids file"
   ]
  },
  {
   "cell_type": "code",
   "execution_count": null,
   "id": "7c33fbdc",
   "metadata": {},
   "outputs": [],
   "source": [
    "from featgraph import conversion\n",
    "from tqdm.notebook import tqdm\n",
    "\n",
    "nnodes = conversion.make_ids_txt(\n",
    "  spotipath(\"ids\", \"txt\"),\n",
    "  adjacency_path,\n",
    "  tqdm\n",
    ")"
   ]
  },
  {
   "cell_type": "markdown",
   "id": "5e8b7fa9",
   "metadata": {},
   "source": [
    "Make metadata files"
   ]
  },
  {
   "cell_type": "code",
   "execution_count": null,
   "id": "27d4898b",
   "metadata": {},
   "outputs": [],
   "source": [
    "from functools import partial\n",
    "\n",
    "conversion.make_metadata_txt(\n",
    "  spotipath,\n",
    "  metadata_path,\n",
    "  spotipath(\"ids\", \"txt\"),\n",
    "  tqdm if tqdm is None else partial(tqdm, total=nnodes),\n",
    ");"
   ]
  },
  {
   "cell_type": "markdown",
   "id": "e76804f5",
   "metadata": {},
   "source": [
    "Make adjacency lists (ASCIIGraph) file"
   ]
  },
  {
   "cell_type": "code",
   "execution_count": null,
   "id": "26ed9356",
   "metadata": {},
   "outputs": [],
   "source": [
    "conversion.make_asciigraph_txt(\n",
    "  spotipath(\"graph-txt\"),\n",
    "  adjacency_path,\n",
    "  spotipath(\"ids\", \"txt\"),\n",
    "  tqdm,\n",
    ")"
   ]
  },
  {
   "cell_type": "markdown",
   "id": "3a723b1e",
   "metadata": {},
   "source": [
    "Compress to BVGraph"
   ]
  },
  {
   "cell_type": "code",
   "execution_count": null,
   "id": "77cdf083",
   "metadata": {},
   "outputs": [],
   "source": [
    "conversion.compress_to_bvgraph(\n",
    "  spotipath()\n",
    ")"
   ]
  }
 ],
 "metadata": {
  "kernelspec": {
   "display_name": "Python 3 (ipykernel)",
   "language": "python",
   "name": "python3"
  },
  "language_info": {
   "codemirror_mode": {
    "name": "ipython",
    "version": 3
   },
   "file_extension": ".py",
   "mimetype": "text/x-python",
   "name": "python",
   "nbconvert_exporter": "python",
   "pygments_lexer": "ipython3",
   "version": "3.8.10"
  }
 },
 "nbformat": 4,
 "nbformat_minor": 5
}
