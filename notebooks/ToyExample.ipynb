{
 "cells": [
  {
   "cell_type": "markdown",
   "id": "446a6583",
   "metadata": {},
   "source": [
    "# Configure\n",
    "Set `jvm_path` to your java virtual machine full path"
   ]
  },
  {
   "cell_type": "code",
   "execution_count": null,
   "id": "7052a749",
   "metadata": {},
   "outputs": [],
   "source": [
    "jvm_path = None"
   ]
  },
  {
   "cell_type": "markdown",
   "id": "20cd2796",
   "metadata": {},
   "source": [
    "Set up logging"
   ]
  },
  {
   "cell_type": "code",
   "execution_count": null,
   "id": "59d036bc",
   "metadata": {},
   "outputs": [],
   "source": [
    "import logging\n",
    "logging.basicConfig(\n",
    "  level=logging.INFO,\n",
    "  format='%(asctime)s %(name)-12s %(levelname)-8s: %(message)s',\n",
    "  datefmt='%Y-%m-%d %H:%M:%S',\n",
    ")"
   ]
  },
  {
   "cell_type": "markdown",
   "id": "4fd49688",
   "metadata": {},
   "source": [
    "Install package"
   ]
  },
  {
   "cell_type": "code",
   "execution_count": null,
   "id": "48a1b08e",
   "metadata": {},
   "outputs": [],
   "source": [
    "import sys\n",
    "import os\n",
    "\n",
    "cmd = \"{} -m pip install -U .. --use-feature=in-tree-build\".format(\n",
    "  sys.executable\n",
    ")\n",
    "os.system(cmd);"
   ]
  },
  {
   "cell_type": "markdown",
   "id": "d48ee2ec",
   "metadata": {},
   "source": [
    "Install dependencies"
   ]
  },
  {
   "cell_type": "code",
   "execution_count": null,
   "id": "c1cd1c95",
   "metadata": {},
   "outputs": [],
   "source": [
    "cmd = \"{} -m pip install -Ur ../notebooks-requirements.txt\".format(\n",
    "  sys.executable\n",
    ")\n",
    "os.system(cmd);"
   ]
  },
  {
   "cell_type": "markdown",
   "id": "b0096d6e",
   "metadata": {},
   "source": [
    "Start jvm"
   ]
  },
  {
   "cell_type": "code",
   "execution_count": null,
   "id": "55ed7aaa",
   "metadata": {},
   "outputs": [],
   "source": [
    "from featgraph.jwebgraph import start_jvm\n",
    "start_jvm(jvm_path=jvm_path)"
   ]
  },
  {
   "cell_type": "markdown",
   "id": "08b47df0",
   "metadata": {},
   "source": [
    "Import the java library"
   ]
  },
  {
   "cell_type": "code",
   "execution_count": null,
   "id": "01aa7f77",
   "metadata": {},
   "outputs": [],
   "source": [
    "from it.unimi.dsi import webgraph"
   ]
  },
  {
   "cell_type": "markdown",
   "id": "a48d7c1c",
   "metadata": {},
   "source": [
    "# Hands on: a toy example to become acquainted with the libraries\n",
    "## Load graph\n",
    "Let's load the following graph\n",
    "\n",
    "![graph image](https://doc-0c-ag-docs.googleusercontent.com/docs/securesc/c275d3us2tonk8js4gjnts3eu7icvfro/5ro7ls5d0hfeosatrli98dr8m29pg2th/1626095325000/10295162260986597706/10295162260986597706/1t-EIZN1QCEou6Igv9s6dV8etah9UIRTP?e=download&authuser=0&nonce=ld6blsnpmc37e&user=10295162260986597706&hash=9g6g41jqk4tvsmrq4ra6sfp8jea9se7h)"
   ]
  },
  {
   "cell_type": "code",
   "execution_count": null,
   "id": "99083385",
   "metadata": {},
   "outputs": [],
   "source": [
    "ascii_graph_str = \"\"\"0 1\n",
    "0 4\n",
    "1 2\n",
    "2 1\n",
    "2 3\n",
    "3 2\n",
    "3 5\n",
    "4 0\n",
    "4 1\n",
    "5 4\"\"\"\n",
    "\n",
    "example_file = \"graphs/example.arcs\"\n",
    "os.makedirs(os.path.dirname(example_file), exist_ok=True)\n",
    "with open(example_file, \"w\") as f:\n",
    "  f.write(ascii_graph_str)"
   ]
  },
  {
   "cell_type": "code",
   "execution_count": null,
   "id": "832739f1",
   "metadata": {},
   "outputs": [],
   "source": [
    "graph = webgraph.ArcListASCIIGraph.load(example_file)\n",
    "print(graph)"
   ]
  },
  {
   "cell_type": "markdown",
   "id": "02987294",
   "metadata": {},
   "source": [
    "## Convert\n",
    "Convert graph to BVGraph"
   ]
  },
  {
   "cell_type": "code",
   "execution_count": null,
   "id": "ff149e45",
   "metadata": {},
   "outputs": [],
   "source": [
    "bv_file_prefix = \".\".join((*example_file.split(\".\")[:-1], \"bvgraph\"))\n",
    "webgraph.BVGraph.store(graph, bv_file_prefix)"
   ]
  },
  {
   "cell_type": "markdown",
   "id": "a8233491",
   "metadata": {},
   "source": [
    "Print contents of properties file"
   ]
  },
  {
   "cell_type": "code",
   "execution_count": null,
   "id": "69da86a9",
   "metadata": {},
   "outputs": [],
   "source": [
    "with open(\".\".join((bv_file_prefix, \"properties\"))) as f:\n",
    "  print(f.read())"
   ]
  },
  {
   "cell_type": "markdown",
   "id": "9f77abeb",
   "metadata": {},
   "source": [
    "## Convert back"
   ]
  },
  {
   "cell_type": "code",
   "execution_count": null,
   "id": "5b84a46d",
   "metadata": {},
   "outputs": [],
   "source": [
    "reconvert_fname = \".\".join((\n",
    "  *example_file.split(\".\")[:-1],\n",
    "  \"reconverted\", \"arcs\"\n",
    "))\n",
    "bvgraph = webgraph.BVGraph.load(bv_file_prefix)\n",
    "webgraph.ArcListASCIIGraph.store(bvgraph, reconvert_fname)"
   ]
  },
  {
   "cell_type": "markdown",
   "id": "34fb73c9",
   "metadata": {},
   "source": [
    "Print `ArcListASCIIGraph` file"
   ]
  },
  {
   "cell_type": "code",
   "execution_count": null,
   "id": "ee56d17a",
   "metadata": {},
   "outputs": [],
   "source": [
    "with open(reconvert_fname) as f:\n",
    "  print(f.read())"
   ]
  },
  {
   "cell_type": "markdown",
   "id": "6dc75f43",
   "metadata": {},
   "source": [
    "## Graph transformation"
   ]
  },
  {
   "cell_type": "code",
   "execution_count": null,
   "id": "a7f895a0",
   "metadata": {},
   "outputs": [],
   "source": [
    "print(webgraph.Transform.transpose(graph))"
   ]
  },
  {
   "cell_type": "code",
   "execution_count": null,
   "id": "dd91ab11",
   "metadata": {},
   "outputs": [],
   "source": [
    "graph_s = webgraph.Transform.symmetrize(graph)\n",
    "graph_s_str = graph_s.toString().replace(\n",
    "  \"Arcs: unknown\",\n",
    "  \"Arcs: {}\".format(sum(map(\n",
    "    graph_s.outdegree,\n",
    "    graph_s.nodeIterator()\n",
    "  )))\n",
    ")\n",
    "print(graph_s_str)"
   ]
  },
  {
   "cell_type": "markdown",
   "id": "212e0cf7",
   "metadata": {},
   "source": [
    "## Stats"
   ]
  },
  {
   "cell_type": "code",
   "execution_count": null,
   "id": "3ec6080a",
   "metadata": {},
   "outputs": [],
   "source": [
    "from it.unimi import dsi\n",
    "import jpype.types\n",
    "\n",
    "graph_bv = webgraph.BVGraph.load(bv_file_prefix)\n",
    "buckets = jpype.types.JObject(None, dsi.bits.LongArrayBitVector)\n",
    "sccsize = jpype.types.JObject(None, jpype.types.JArray(jpype.types.JInt))\n",
    "stats_prefix = \".\".join((*bv_file_prefix.split(\".\"), \"stats\"))\n",
    "pl = dsi.logging.ProgressLogger()\n",
    "\n",
    "webgraph.Stats.run(graph_bv, buckets, sccsize, stats_prefix, pl)"
   ]
  },
  {
   "cell_type": "markdown",
   "id": "b135a539",
   "metadata": {},
   "source": [
    "Print out stats"
   ]
  },
  {
   "cell_type": "code",
   "execution_count": null,
   "id": "f98dac43",
   "metadata": {},
   "outputs": [],
   "source": [
    "import glob\n",
    "\n",
    "for i, fname in enumerate(glob.glob(stats_prefix + \"*\")):\n",
    "  if i:\n",
    "    print(\"-\" * 40, \"\\n\")\n",
    "  print(os.path.basename(fname), \"\\n\")\n",
    "  with open(fname) as f:\n",
    "    print(f.read())"
   ]
  },
  {
   "cell_type": "markdown",
   "id": "31c5ac84",
   "metadata": {},
   "source": [
    "## Degree correlation"
   ]
  },
  {
   "cell_type": "code",
   "execution_count": null,
   "id": "a570dfe5",
   "metadata": {},
   "outputs": [],
   "source": [
    "from it.unimi.dsi import law\n",
    "\n",
    "def get_degrees(g):\n",
    "  return jpype.types.JArray(jpype.JDouble)(\n",
    "    list(map(g.outdegree, g.nodeIterator()))\n",
    "  )\n",
    "out_degrees = get_degrees(graph)\n",
    "in_degrees = get_degrees(webgraph.Transform.transpose(graph))\n",
    "\n",
    "print(\"KendallTau:\", law.stat.KendallTau.INSTANCE.compute(\n",
    "  out_degrees, in_degrees\n",
    "))"
   ]
  },
  {
   "cell_type": "markdown",
   "id": "3689a43d",
   "metadata": {},
   "source": [
    "Degree scatterplot"
   ]
  },
  {
   "cell_type": "code",
   "execution_count": null,
   "id": "fbd06910",
   "metadata": {
    "scrolled": true
   },
   "outputs": [],
   "source": [
    "from matplotlib import pyplot as plt\n",
    "import numpy as np\n",
    "\n",
    "np.random.seed(2)\n",
    "scatter_data = np.array([\n",
    "  out_degrees, in_degrees\n",
    "]) + np.random.randn(2, graph.numNodes()) * 0.01\n",
    "\n",
    "plt.scatter(*scatter_data, c=\"k\", marker=\"1\")\n",
    "plt.xticks(np.arange(2) + 1)\n",
    "plt.yticks(np.arange(3) + 1)\n",
    "plt.xlabel(\"out-degree\")\n",
    "plt.ylabel(\"in-degree\")\n",
    "plt.gca().set_aspect(\"equal\", adjustable=\"box\");"
   ]
  }
 ],
 "metadata": {
  "kernelspec": {
   "display_name": "Python 3 (ipykernel)",
   "language": "python",
   "name": "python3"
  },
  "language_info": {
   "codemirror_mode": {
    "name": "ipython",
    "version": 3
   },
   "file_extension": ".py",
   "mimetype": "text/x-python",
   "name": "python",
   "nbconvert_exporter": "python",
   "pygments_lexer": "ipython3",
   "version": "3.8.10"
  }
 },
 "nbformat": 4,
 "nbformat_minor": 5
}
